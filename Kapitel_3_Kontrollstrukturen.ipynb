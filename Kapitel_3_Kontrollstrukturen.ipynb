{
  "nbformat": 4,
  "nbformat_minor": 0,
  "metadata": {
    "colab": {
      "name": "Kapitel 3: Kontrollstrukturen.ipynb",
      "provenance": [],
      "collapsed_sections": [
        "RKPBmVwkxCyE",
        "k1GGKRiKvctx",
        "H7kr1sd2xJKM",
        "kkfb07trA1_3",
        "da9-VNOaKzv8",
        "CzQOI2W0Bikx",
        "AAcittCk47ha",
        "0c5LhRP_uk7B",
        "pbljEFTaIl2a",
        "Vhv3RqP7HONs",
        "VA0XFzkCHONv",
        "vt3itHctOo1a",
        "Uj3r5HPX6Hkn"
      ]
    },
    "kernelspec": {
      "name": "python3",
      "display_name": "Python 3"
    },
    "language_info": {
      "name": "python"
    }
  },
  "cells": [
    {
      "cell_type": "markdown",
      "metadata": {
        "id": "RKPBmVwkxCyE"
      },
      "source": [
        "# Kapitel 3: Kontrollstrukturen\n",
        "\n"
      ]
    },
    {
      "cell_type": "markdown",
      "metadata": {
        "id": "k1GGKRiKvctx"
      },
      "source": [
        "## Tutorial 3a: Die Bedingung: if / elif / else\n",
        "\n",
        "\n",
        "\n"
      ]
    },
    {
      "cell_type": "markdown",
      "metadata": {
        "id": "PEDWrkiJ9e_M"
      },
      "source": [
        "Eine if-Bedingung hat folgende Struktur:   \n",
        "```\n",
        "if bedingung:\n",
        "    anweisung\n",
        "else: \n",
        "    andere_anweisung\n",
        "```\n",
        "\n",
        "Achte auf die Einrückungen und auf den Doppelpunkt nach dem if- und else-Fall!"
      ]
    },
    {
      "cell_type": "markdown",
      "metadata": {
        "id": "_RdMS6567xUo"
      },
      "source": [
        "Erstelle zwei Variablen:  \n",
        "wert1 = 5  \n",
        "wert2 = 7  \n",
        "Erstelle eine Abfrage über eine if-Bedingung, ob wert1 größer als wert2 ist. Wenn ja, gib folgenden Text aus:  \n",
        "\"\\<wert1> ist größer als \\<wert2>\" (Statt \\<wert1> und \\<wert2> füg bitte die Werte der Variablen in den Satz ein).   \n",
        "Falls die Bedingung nicht erfüllt ist, gib bitte folgenden Satz aus:  \n",
        "\"\\<wert1> ist nicht größer als \\<wert2>\" (Setze auch hier bitte die Werte in den Satz ein).  \n",
        "Gib am Ende bitte den Satz aus: \"Ende der if-Abfrage\"  \n",
        "Teste deine if-Abfrage, indem du andere Werte für wert1 und wert2 eingibst. Welcher Fall tritt ein, wenn beide Werte gleich groß sind?"
      ]
    },
    {
      "cell_type": "code",
      "metadata": {
        "colab": {
          "base_uri": "https://localhost:8080/"
        },
        "id": "GgrpyUO38v-L",
        "outputId": "f3ce9453-e36f-4b6d-e0e8-f1cd10934fd8"
      },
      "source": [
        "\n",
        "\n",
        "# Fallunterscheidung \n",
        "if\n",
        "\n",
        "else:\n",
        "\n",
        "# Ende der Fallunterscheidung\n"
      ],
      "execution_count": null,
      "outputs": [
        {
          "output_type": "stream",
          "text": [
            "5 ist nicht größer als 7\n",
            "Ende\n"
          ],
          "name": "stdout"
        }
      ]
    },
    {
      "cell_type": "markdown",
      "metadata": {
        "id": "HaqAFMoB-PdA"
      },
      "source": [
        "Erweiter die if-Abfrage mit einer weiteren Bedingung:  \n",
        "Wenn wert1 nicht größer ist, als wert2, soll getestet werden, ob beide Werte gleich groß sind. Falls ja, gib bitte folgenden Text aus:  \n",
        "\"\\<wert1> und \\<wert2> sind gleich groß.\"  \n",
        "Falls diese Bedingung nicht erfüllt ist, gib bitte folgenden Text aus:  \n",
        "\"\\<wert1> ist kleiner als \\<wert2>.\"  \n",
        "Teste auch hier deinen Code, indem du verschiedene Kombinationen für wert1 und wert2 eingibst."
      ]
    },
    {
      "cell_type": "code",
      "metadata": {
        "colab": {
          "base_uri": "https://localhost:8080/"
        },
        "id": "XYVtL8W2-7UD",
        "outputId": "97049368-33b8-4160-86c0-2c5aea0fb6c7"
      },
      "source": [
        "\n",
        "# Fallunterscheidung \n",
        "\n",
        "\n",
        "# Ende der Fallunterscheidung"
      ],
      "execution_count": null,
      "outputs": [
        {
          "output_type": "stream",
          "text": [
            "8 ist größer als 7\n"
          ],
          "name": "stdout"
        }
      ]
    },
    {
      "cell_type": "markdown",
      "metadata": {
        "id": "JORUEU_k_SAk"
      },
      "source": [
        "Zusatz (optional)  \n",
        "Erstelle eine Variable zahl mit dem Wert 25.  \n",
        "Mit einer if-Abfrage soll der kleinste Teiler von deiner Zahl gefunden werden.  \n",
        "Erstelle dafür zunächst eine Abfrage, ob die Variable zahl durch 2 teilbar ist (ohne Rest). Wenn ja, gib den Text aus:  \n",
        "\"Der kleinste Teiler von \\<zahl> ist 2\".  \n",
        "Wenn nicht, teste ob die Zahl ohne Rest durch 3 teilbar ist. Wenn ja, gib den Text aus:  \n",
        "\"Der kleinste Teiler von \\<zahl> ist 3\".  \n",
        "Erstell bitte entsprechende Abfragen und Ausgaben auch für den Teiler 5 und 7.  \n",
        "Wenn keiner dieser Werte zutrifft, gib bitte folgenden Text aus:  \n",
        "\"Es wurde kein Teiler gefunden.\"    \n",
        "Tipp: Es gibt einen Operator, mit dem man den Rest von einer Division erhält."
      ]
    },
    {
      "cell_type": "code",
      "metadata": {
        "colab": {
          "base_uri": "https://localhost:8080/"
        },
        "id": "DnYsYz06ARRp",
        "outputId": "38e6e4a5-30d8-4c73-b178-ec71a28708d9"
      },
      "source": [
        "\n",
        "# Fallunterscheidung\n"
      ],
      "execution_count": null,
      "outputs": [
        {
          "output_type": "stream",
          "text": [
            "Der kleinste Teiler von 8 ist 2\n"
          ],
          "name": "stdout"
        }
      ]
    },
    {
      "cell_type": "markdown",
      "metadata": {
        "id": "H7kr1sd2xJKM"
      },
      "source": [
        "## Tutorial 3b: While-Schleifen \n",
        "\n"
      ]
    },
    {
      "cell_type": "markdown",
      "metadata": {
        "id": "K058OAP_HE40"
      },
      "source": [
        "Das ist der Aufbau einer while-Schleife:\n",
        "```\n",
        "i = 0\n",
        "while i < 3:\n",
        "    print(i)\n",
        "    i += 1\n",
        "```\n",
        "\n",
        "Erstelle zwei Variablen, anfang und ende:  \n",
        "anfang = 0   \n",
        "ende = 11  \n",
        "\n",
        "Erstelle nun eine while-Schleife, in der zunächst der Wert der Variablen anfang ausgegeben wird. Danach wird zu der Variable anfang der Wert 2 addiert wird.  \n",
        "Führe die while-Schleife solange aus, bis der Wert der Variablen anfang gleich groß oder größer als der Wert der Variablen ende ist.   \n"
      ]
    },
    {
      "cell_type": "code",
      "metadata": {
        "colab": {
          "base_uri": "https://localhost:8080/"
        },
        "id": "6_wMQx3lIGPY",
        "outputId": "f51f24da-9644-4729-c4db-0a744c9db863"
      },
      "source": [
        "# Variablen initialisieren\n",
        "\n",
        "\n",
        "# while-Schleife\n"
      ],
      "execution_count": null,
      "outputs": [
        {
          "output_type": "stream",
          "text": [
            "0\n",
            "2\n",
            "4\n",
            "6\n",
            "8\n",
            "10\n"
          ],
          "name": "stdout"
        }
      ]
    },
    {
      "cell_type": "markdown",
      "metadata": {
        "id": "FyBUAT2HC5Ad"
      },
      "source": [
        "Zusatz (optional):  \n",
        "Mit der Built-in-Funktion input() kannst du Variablen während dein Code ausgeführt wird, Werte zuweisen. Teste es einmal an folgender Zelle. \n",
        "Wenn du die Zelle ausführst, öffnet sich ein Eingabefeld. Gib in dieses Feld eine Zahl oder einen Buchstaben ein und bestätige mit Enter. Dieser Wert wird der Variablen eine_variable zugewiesen.  "
      ]
    },
    {
      "cell_type": "code",
      "metadata": {
        "colab": {
          "base_uri": "https://localhost:8080/"
        },
        "id": "rE2LDAQoDGST",
        "outputId": "e1bbcd7b-9c4f-4523-d9d5-cfb41c9551e0"
      },
      "source": [
        "eine_variable = input()\n",
        "print(\"Du hast eine_variable den Wert \" + str(eine_variable) + \" zugewiesen\")"
      ],
      "execution_count": null,
      "outputs": [
        {
          "output_type": "stream",
          "text": [
            "4220\n",
            "Du hast eine_variable den Wert 4220 zugewiesen\n"
          ],
          "name": "stdout"
        }
      ]
    },
    {
      "cell_type": "markdown",
      "metadata": {
        "id": "8ZTEguZb9NOo"
      },
      "source": [
        "Schreibe eine while-Schleife, die solange ausgeführt wird, bis der richtige Buchstabe \"erraten\" wurde.   \n",
        "Erstelle zunächst die Variable buchstabe, und weise dieser einen bestimmten Wert zu, z.B.  \n",
        "\n",
        "buchstabe = \"f\"\n",
        "\n",
        "Erstell danach die Variable geraten, in der später in der while-Schleife der geratene Buchstabe gespeichert wird. Weise dieser Variablen einen leeren String zu.   \n",
        "\n",
        "geraten = \"\" \n",
        "\n",
        "Erstelle nun eine while Schleife, die ausgeführt, solange buchstabe und geraten nicht gleich sind.  \n",
        "In der while-Schleife gibst du folgenden Text aus:  \n",
        "\"Rate einen kleinen Buchstaben: \"  \n",
        "Dann liest du den eingegebenen Wert in die Variable \"geraten\" ein, indem du die input()-Funktion nutzt. Welche Bedingung muss man in die Schleife eingeben?  \n",
        "\n"
      ]
    },
    {
      "cell_type": "code",
      "metadata": {
        "id": "CflkPuuNAYit"
      },
      "source": [
        "# Initialisierung der Variablen\n",
        "buchstabe = \n",
        "geraten = \n",
        "\n",
        "# Schleife \n",
        "while # Hier Bedingung einfügen\n",
        "    # Hier Ausgabe einfügen\n",
        "    geraten = input()"
      ],
      "execution_count": null,
      "outputs": []
    },
    {
      "cell_type": "markdown",
      "metadata": {
        "id": "nvLz2Y1LAHVN"
      },
      "source": [
        "Erweitere die while-Schleife: Wenn der Buchstabe erraten wurde, gibst du ein \"Richtig!\" aus. Wenn der Buchstabe nicht richtig geraten wurde, gibst du ein \"Leider Falsch\" aus. "
      ]
    },
    {
      "cell_type": "code",
      "metadata": {
        "id": "9Ust5hisGMho"
      },
      "source": [
        "# Initialisierung der Variablen\n",
        "buchstabe = \n",
        "geraten = \n",
        "\n",
        "# Schleife \n",
        "while # Hier Bedingung einfügen\n",
        "    # Hier Ausgabe einfügen\n",
        "    geraten = input()"
      ],
      "execution_count": null,
      "outputs": []
    },
    {
      "cell_type": "markdown",
      "metadata": {
        "id": "kkfb07trA1_3"
      },
      "source": [
        "## Tutorial 3c: For-Schleifen"
      ]
    },
    {
      "cell_type": "markdown",
      "metadata": {
        "id": "da9-VNOaKzv8"
      },
      "source": [
        "### Möglichkeit 1: range()\n"
      ]
    },
    {
      "cell_type": "markdown",
      "metadata": {
        "id": "MbNjvBXfA4UP"
      },
      "source": [
        "Zum Aufbau einer for-Schleife haben wir zwei Möglichkeiten. Die erste Möglichkeit ist die for-Schleife mit einem in-range()-Befehl.  \n",
        "In dieser Möglcihkeit wird ein Zähler nach jeder Iteration der for-Schleife um 1 hochgezählt.  \n",
        "Bei dem in-range-Befehl() geben wir innerhalb der Klammern den Start und das Ende als int an:  \n",
        "in range(start, ende)  \n",
        "Wichtig ist, dass für den letzten Wert, d.h. ende, die for-Schleife nicht mehr ausgeführt wird.  \n",
        "Der Name des Zählers kann frei gewählt werden.  \n",
        "Das ist der Aufbau einer for-Schleife mit in-range-Befehl: \n",
        "```\n",
        "for zaehler in range (start, ende): \n",
        "    anweisung\n",
        "```\n",
        "\n",
        "Schreibe eine for-Schleife  mit einem in-range()-Befehl.  \n",
        "Die for-Schleife soll 5 Mal den Satz: \"Ich bin gefangen in einer for-Schleife\" ausgeben. "
      ]
    },
    {
      "cell_type": "code",
      "metadata": {
        "id": "Ytr0bQytBG1H"
      },
      "source": [
        ""
      ],
      "execution_count": null,
      "outputs": []
    },
    {
      "cell_type": "markdown",
      "metadata": {
        "id": "7lOwkgeUBMd4"
      },
      "source": [
        "Erweiter die for-Schleife, indem du die aktuelle Iteration im Satz angibst.  \n",
        "Der Satz soll beispielsweise lauten: \"Ich bin gefangen in der 3. Iteration der for-Schleife\". "
      ]
    },
    {
      "cell_type": "code",
      "metadata": {
        "id": "aKxkdb9wBZYB"
      },
      "source": [
        ""
      ],
      "execution_count": null,
      "outputs": []
    },
    {
      "cell_type": "markdown",
      "metadata": {
        "id": "KL53jmiWCVDF"
      },
      "source": [
        "---"
      ]
    },
    {
      "cell_type": "markdown",
      "metadata": {
        "id": "CzQOI2W0Bikx"
      },
      "source": [
        "### Möglichkeit 2: Elemente einer Liste  \n"
      ]
    },
    {
      "cell_type": "markdown",
      "metadata": {
        "id": "-o7wtmp5O9Ns"
      },
      "source": [
        "Anstatt einen Zähler hochzuzählen, können wir der Variablen innerhalb einer for-Schleife die Werte aus einer Liste zuweisen.  \n",
        "Dafür benötigen wir eine Liste mit mehreren Elementen (ints), beispielsweise:   \n",
        "meine_liste = [0, 1, 3, 3, 7, 99]  \n",
        "\n",
        "Diese Liste kann innerhalb der for-Schleife durchlaufen werden. Bei jeder Iteration nimmt die Variable der Schleife den nächsten Wert aus der Liste an. Sobald die Liste durchlaufen ist, wird auch die for-Schleife beendet:   \n",
        "```\n",
        "for element in meine_liste:  \n",
        "    print(element)\n",
        "```\n",
        "Die Variable der Schleife (hier element) können wir beliebig wählen."
      ]
    },
    {
      "cell_type": "markdown",
      "metadata": {
        "id": "PxuVRxFQNy_I"
      },
      "source": [
        "Erstelle eine Liste:  \n",
        "himmelsrichtungen  \n",
        "Diese Liste enthält die Elemente \"Norden\", \"Osten\", \"Sueden\", \"Westen\".  \n",
        "\n",
        "Erstelle eine for-Schleife, die auf jedes Element der Liste himmelsrichtungen zugreift und den Text ausgibt:  \n",
        "\n",
        "\"Der Kompass zeigt Richtung: \\<himmelsrichtung>\"  (Statt \\<himmelsrichtung> soll die tatsächliche Himmelsrichtung ausgegeben werden.)"
      ]
    },
    {
      "cell_type": "code",
      "metadata": {
        "colab": {
          "base_uri": "https://localhost:8080/"
        },
        "id": "VFER07ZlDB14",
        "outputId": "46937442-3419-406c-9bea-333ac2804774"
      },
      "source": [
        "himmelsrichtungen = \n",
        "\n",
        "# for-Schleife"
      ],
      "execution_count": null,
      "outputs": [
        {
          "output_type": "stream",
          "text": [
            "Der Kompass zeigt Richtung: Norden\n",
            "Der Kompass zeigt Richtung: Osten\n",
            "Der Kompass zeigt Richtung: Sueden\n",
            "Der Kompass zeigt Richtung: Westen\n"
          ],
          "name": "stdout"
        }
      ]
    },
    {
      "cell_type": "markdown",
      "metadata": {
        "id": "AAcittCk47ha"
      },
      "source": [
        "## Weitere Aufgaben zu Kontrollstrukturen (optional)"
      ]
    },
    {
      "cell_type": "markdown",
      "metadata": {
        "id": "sylIlWBD5Asx"
      },
      "source": [
        "Überlege dir zu jedem der folgenden Szenarien, welche Kontrollstruktur am besten passt.  \n",
        "\n",
        "Nachdem du dir das überlegt hast, kontrolliere deine Lösungen. Dann kannst du versuchen, für die verschiedenen Szenarien eine Kontrollstruktur zu programmieren.  "
      ]
    },
    {
      "cell_type": "markdown",
      "metadata": {
        "id": "zGLW5CNP5i2c"
      },
      "source": [
        "Szenario 1:  \n",
        "Die Variable le_ampel kann die Werte 'rot', 'gelb' oder 'grün' annehmen.  \n",
        "Bei 'rot' soll die Variable le_person auf 'stehen' gesetzt werden.  \n",
        "Ansonsten soll die Variable le_person auf 'laufen' gesetzt werden. "
      ]
    },
    {
      "cell_type": "code",
      "metadata": {
        "id": "_QfXqrQ-5AD4"
      },
      "source": [
        "le_ampel = 'grün'"
      ],
      "execution_count": null,
      "outputs": []
    },
    {
      "cell_type": "markdown",
      "metadata": {
        "id": "NJMbaqW5765A"
      },
      "source": [
        "Szenario 2:  \n",
        "Das Alter einer Person ist 18 und wird in der Variable le_alter gespeichert. Das Alter soll 5 Mal ausgegeben werden, und jedes Mal soll ein Jahr dazugerechnet werden. "
      ]
    },
    {
      "cell_type": "code",
      "metadata": {
        "id": "G-EYXA5g_8Hj"
      },
      "source": [
        "le_alter = 18"
      ],
      "execution_count": null,
      "outputs": []
    },
    {
      "cell_type": "markdown",
      "metadata": {
        "id": "Wj-1CNTf65Pz"
      },
      "source": [
        "Szenario 3:  \n",
        "Die Preise verschiedener Produkte werden in einer Liste le_preisliste gespeichert. Für jeden Preis soll die Mehrwertsteuer von 19% (0.19) berechnet und ausgegeben werden. "
      ]
    },
    {
      "cell_type": "code",
      "metadata": {
        "id": "uh0zGExN5xgo"
      },
      "source": [
        "le_preisliste = [1.00, 3.00, 5.00, 10.00]"
      ],
      "execution_count": null,
      "outputs": []
    },
    {
      "cell_type": "markdown",
      "metadata": {
        "id": "PEnHGExfAWUE"
      },
      "source": [
        "Szenario 4:  \n",
        "Die Anzahl der Personen in einem Haus wird in der Variable le_nummer_personen gespeichert und ist am Anfang 0. Jetzt gehen einzeln Personen in das Haus. Solange weniger als 15 Personen im Haus sind, soll die aktuelle Anzahl der Personen ausgegeben werden.  \n",
        "Sobald 15 Personen im Haus sind, soll der Text: \"Halt stopp, es sind 15 Personen im Haus!\" ausgegeben werden.  "
      ]
    },
    {
      "cell_type": "code",
      "metadata": {
        "id": "Dx3hBrl0BaWy"
      },
      "source": [
        "le_nummer_personen = 0"
      ],
      "execution_count": null,
      "outputs": []
    },
    {
      "cell_type": "markdown",
      "metadata": {
        "id": "jFIl8o1kC3U5"
      },
      "source": [
        "Szenario 5 :  \n",
        "Eine Maschine läd nacheinander 10 Pakete mit einem Wert zwischen 1 kg und 5 kg auf eine Palette (le_paketgewicht). Nach jedem neuen Paket soll das gesamte Gewicht le_gesamtgewicht aller Pakete ausgegeben werden. Am Ende soll die Anzahl der Pakete (le_paket_nummer) und das Gesamtgewicht ausgegeben werden.  \n",
        "Falls jedoch mit den Paketen ein Gewicht von 30 kg erreicht oder überschritten wird, soll die Maschine aufhören, Pakete aufzuladen. Auch hier soll die Gesamtanzahl und das Gesamtgewicht der Pakete ausgegeben werden.   \n",
        "(Das Anfangsgewicht le_gewicht wird zu 0 angenommen)  \n",
        "\n",
        "Hier wird die random-library importiert, über die zufällige Werte erzeugt werden. Der Befehl random.randint erzeugt zufällig eine ganze Zahl von 0 bis (inklusive) 5."
      ]
    },
    {
      "cell_type": "code",
      "metadata": {
        "id": "7h0pY1aPFbKN"
      },
      "source": [
        "import random\n",
        "le_paket_nummer = 0\n",
        "le_gesamtgewicht = 0\n",
        "\n",
        "# Innerhalb der Kontrollstruktur: \n",
        "le_paket_gewicht = random.randint(1,5)"
      ],
      "execution_count": null,
      "outputs": []
    },
    {
      "cell_type": "markdown",
      "metadata": {
        "id": "0c5LhRP_uk7B"
      },
      "source": [
        "# Lösungen"
      ]
    },
    {
      "cell_type": "markdown",
      "metadata": {
        "id": "pbljEFTaIl2a"
      },
      "source": [
        "## Tutorial 3a: Die Bedingung: if / elif / else\n",
        "\n",
        "\n",
        "\n"
      ]
    },
    {
      "cell_type": "markdown",
      "metadata": {
        "id": "bjAow_IyIl2a"
      },
      "source": [
        "Eine if-Bedingung hat folgende Struktur:   \n",
        "```\n",
        "if bedingung:\n",
        "    anweisung\n",
        "else: \n",
        "    andere_anweisung\n",
        "```\n",
        "\n",
        "Achte auf die Einrückungen und auf den Doppelpunkt nach dem if- und else-Fall!"
      ]
    },
    {
      "cell_type": "markdown",
      "metadata": {
        "id": "4QxoVj5UIl2a"
      },
      "source": [
        "Erstelle zwei Variablen:  \n",
        "wert1 = 5  \n",
        "wert2 = 7  \n",
        "Erstelle eine Abfrage über eine if-Bedingung, ob wert1 größer als wert2 ist. Wenn ja, gib folgenden Text aus:  \n",
        "\"\\<wert1> ist größer als \\<wert2>\" (Statt \\<wert1> und \\<wert2> füg bitte die Werte der Variablen in den Satz ein).   \n",
        "Falls die Bedingung nicht erfüllt ist, gib bitte folgenden Satz aus:  \n",
        "\"\\<wert1> ist nicht größer als \\<wert2>\" (Setze auch hier bitte die Werte in den Satz ein).  \n",
        "Gib am Ende bitte den Satz aus: \"Ende der if-Abfrage\"  \n",
        "Teste deine if-Abfrage, indem du andere Werte für wert1 und wert2 eingibst. Welcher Fall tritt ein, wenn beide Werte gleich groß sind?"
      ]
    },
    {
      "cell_type": "code",
      "metadata": {
        "colab": {
          "base_uri": "https://localhost:8080/"
        },
        "id": "-byWamjhIl2a",
        "outputId": "f3ce9453-e36f-4b6d-e0e8-f1cd10934fd8"
      },
      "source": [
        "wert1 = 5\n",
        "wert2 = 7\n",
        "\n",
        "# Fallunterscheidung \n",
        "if wert1 > wert2:\n",
        "    print(str(wert1) + \" ist größer als \" + str(wert2))\n",
        "else:\n",
        "    print(str(wert1) + \" ist nicht größer als \" + str(wert2))\n",
        "# Ende der Fallunterscheidung\n",
        "print(\"Ende\")"
      ],
      "execution_count": null,
      "outputs": [
        {
          "output_type": "stream",
          "text": [
            "5 ist nicht größer als 7\n",
            "Ende\n"
          ],
          "name": "stdout"
        }
      ]
    },
    {
      "cell_type": "markdown",
      "metadata": {
        "id": "DNvoKIsAIl2b"
      },
      "source": [
        "Erweiter die if-Abfrage mit einer weiteren Bedingung:  \n",
        "Wenn wert1 nicht größer ist, als wert2, soll getestet werden, ob beide Werte gleich groß sind. Falls ja, gib bitte folgenden Text aus:  \n",
        "\"\\<wert1> und \\<wert2> sind gleich groß.\"  \n",
        "Falls diese Bedingung nicht erfüllt ist, gib bitte folgenden Text aus:  \n",
        "\"\\<wert1> ist kleiner als \\<wert2>.\"  \n",
        "Teste auch hier deinen Code, indem du verschiedene Kombinationen für wert1 und wert2 eingibst."
      ]
    },
    {
      "cell_type": "code",
      "metadata": {
        "colab": {
          "base_uri": "https://localhost:8080/"
        },
        "id": "f8lFBX3yIl2b",
        "outputId": "97049368-33b8-4160-86c0-2c5aea0fb6c7"
      },
      "source": [
        "wert1 = 8\n",
        "wert2 = 7\n",
        "\n",
        "# Fallunterscheidung \n",
        "if wert1 > wert2:\n",
        "    print(str(wert1) + \" ist größer als \" + str(wert2))\n",
        "elif wert1 == wert2:\n",
        "    print(str(wert1) + \" und \" + str(wert2) + \" sind gleich groß\")\n",
        "else:\n",
        "    print(str(wert1) + \" ist kleiner als \" + str(wert2))\n",
        "# Ende der Fallunterscheidung"
      ],
      "execution_count": null,
      "outputs": [
        {
          "output_type": "stream",
          "text": [
            "8 ist größer als 7\n"
          ],
          "name": "stdout"
        }
      ]
    },
    {
      "cell_type": "markdown",
      "metadata": {
        "id": "qM6CKGmhIl2b"
      },
      "source": [
        "Zusatz (optional)  \n",
        "Erstelle eine Variable zahl mit dem Wert 25.  \n",
        "Mit einer if-Abfrage soll der kleinste Teiler von deiner Zahl gefunden werden.  \n",
        "Erstelle dafür zunächst eine Abfrage, ob die Variable zahl durch 2 teilbar ist (ohne Rest). Wenn ja, gib den Text aus:  \n",
        "\"Der kleinste Teiler von \\<zahl> ist 2\".  \n",
        "Wenn nicht, teste ob die Zahl ohne Rest durch 3 teilbar ist. Wenn ja, gib den Text aus:  \n",
        "\"Der kleinste Teiler von \\<zahl> ist 3\".  \n",
        "Erstell bitte entsprechende Abfragen und Ausgaben auch für den Teiler 5 und 7.  \n",
        "Wenn keiner dieser Werte zutrifft, gib bitte folgenden Text aus:  \n",
        "\"Es wurde kein Teiler gefunden.\"    \n",
        "Tipp: Es gibt einen Operator, mit dem man den Rest von einer Division erhält."
      ]
    },
    {
      "cell_type": "code",
      "metadata": {
        "colab": {
          "base_uri": "https://localhost:8080/"
        },
        "id": "wlz5q4dnIl2b",
        "outputId": "38e6e4a5-30d8-4c73-b178-ec71a28708d9"
      },
      "source": [
        "zahl = 8\n",
        "# Fallunterscheidung\n",
        "if zahl % 2 == 0:\n",
        "    print(\"Der kleinste Teiler von \" + str(zahl) + \" ist 2\")\n",
        "elif zahl % 3 == 0:\n",
        "    print(\"Der kleinste Teiler von \" + str(zahl) + \" ist 3\")\n",
        "elif zahl % 5 == 0:\n",
        "    print(\"Der kleinste Teiler von \" + str(zahl) + \" ist 5\")\n",
        "elif zahl % 7 == 0:\n",
        "    print(\"Der kleinste Teiler von \" + str(zahl) + \" ist 7\")\n",
        "else:\n",
        "    print(\"Es wurde kein Teiler gefunden.\")"
      ],
      "execution_count": null,
      "outputs": [
        {
          "output_type": "stream",
          "text": [
            "Der kleinste Teiler von 8 ist 2\n"
          ],
          "name": "stdout"
        }
      ]
    },
    {
      "cell_type": "markdown",
      "metadata": {
        "id": "Vhv3RqP7HONs"
      },
      "source": [
        "## Tutorial 3b: While-Schleifen \n",
        "\n"
      ]
    },
    {
      "cell_type": "markdown",
      "metadata": {
        "id": "Pe5OsFtlIXjY"
      },
      "source": [
        "Das ist der Aufbau einer while-Schleife:\n",
        "```\n",
        "i = 0\n",
        "while i < 3:\n",
        "    print(i)\n",
        "    i += 1\n",
        "```\n",
        "\n",
        "Erstelle zwei Variablen, anfang und ende:  \n",
        "anfang = 0   \n",
        "ende = 11  \n",
        "\n",
        "Erstelle nun eine while-Schleife, in der zunächst der Wert der Variablen anfang ausgegeben wird. Danach wird zu der Variable anfang der Wert 2 addiert wird.  \n",
        "Führe die while-Schleife solange aus, bis der Wert der Variablen anfang gleich groß oder größer als der Wert der Variablen ende ist.   \n"
      ]
    },
    {
      "cell_type": "code",
      "metadata": {
        "colab": {
          "base_uri": "https://localhost:8080/"
        },
        "id": "uL537dcyIXjY",
        "outputId": "f51f24da-9644-4729-c4db-0a744c9db863"
      },
      "source": [
        "# Variablen initialisieren\n",
        "anfang = 0\n",
        "ende = 11\n",
        "\n",
        "# while-Schleife\n",
        "while anfang < ende: \n",
        "    print(anfang)\n",
        "    anfang = anfang + 2"
      ],
      "execution_count": null,
      "outputs": [
        {
          "output_type": "stream",
          "text": [
            "0\n",
            "2\n",
            "4\n",
            "6\n",
            "8\n",
            "10\n"
          ],
          "name": "stdout"
        }
      ]
    },
    {
      "cell_type": "markdown",
      "metadata": {
        "id": "SSO47MAfIXjY"
      },
      "source": [
        "Zusatz (optional):  \n",
        "Mit der Built-in-Funktion input() kannst du Variablen während dein Code ausgeführt wird, Werte zuweisen. Teste es einmal an folgender Zelle. \n",
        "Wenn du die Zelle ausführst, öffnet sich ein Eingabefeld. Gib in dieses Feld eine Zahl oder einen Buchstaben ein und bestätige mit Enter. Dieser Wert wird der Variablen eine_variable zugewiesen.  "
      ]
    },
    {
      "cell_type": "code",
      "metadata": {
        "colab": {
          "base_uri": "https://localhost:8080/"
        },
        "id": "rzCbntkTGfuS",
        "outputId": "e1bbcd7b-9c4f-4523-d9d5-cfb41c9551e0"
      },
      "source": [
        "eine_variable = input()\n",
        "print(\"Du hast eine_variable den Wert \" + str(eine_variable) + \" zugewiesen\")"
      ],
      "execution_count": null,
      "outputs": [
        {
          "output_type": "stream",
          "text": [
            "4220\n",
            "Du hast eine_variable den Wert 4220 zugewiesen\n"
          ],
          "name": "stdout"
        }
      ]
    },
    {
      "cell_type": "markdown",
      "metadata": {
        "id": "rVfmXiZNGfuT"
      },
      "source": [
        "Schreibe eine while-Schleife, die solange ausgeführt wird, bis der richtige Buchstabe \"erraten\" wurde.   \n",
        "Erstelle zunächst die Variable buchstabe, und weise dieser einen bestimmten Wert zu, z.B.  \n",
        "\n",
        "buchstabe = \"f\"\n",
        "\n",
        "Erstell danach die Variable geraten, in der später in der while-Schleife der geratene Buchstabe gespeichert wird. Weise dieser Variablen einen leeren String zu.   \n",
        "\n",
        "geraten = \"\" \n",
        "\n",
        "Erstelle nun eine while Schleife, die ausgeführt, solange buchstabe und geraten nicht gleich sind.  \n",
        "In der while-Schleife gibst du folgenden Text aus:  \n",
        "\"Rate einen kleinen Buchstaben: \"  \n",
        "Dann liest du den eingegebenen Wert in die Variable \"geraten\" ein, indem du die input()-Funktion nutzt. Welche Bedingung muss man in die Schleife eingeben?  \n",
        "\n"
      ]
    },
    {
      "cell_type": "code",
      "metadata": {
        "id": "JcimLXsaHONt"
      },
      "source": [
        "# Initialisierung der Variablen\n",
        "buchstabe = \"f\"\n",
        "geraten = \"\"\n",
        "\n",
        "# Schleife \n",
        " while geraten != buchstabe:\n",
        "    print(\"Rate einen kleinen Buchstabens: \")\n",
        "    geraten = input()"
      ],
      "execution_count": null,
      "outputs": []
    },
    {
      "cell_type": "markdown",
      "metadata": {
        "id": "uJlhQWuIHONt"
      },
      "source": [
        "Erweitere die while-Schleife: Wenn der Buchstabe erraten wurde, gibst du ein \"Richtig!\" aus. Wenn der Buchstabe nicht richtig geraten wurde, gibst du ein \"Leider Falsch\" aus. "
      ]
    },
    {
      "cell_type": "code",
      "metadata": {
        "id": "xB-bi77FHONu"
      },
      "source": [
        "# Initialisierung der Variablen\n",
        "buchstabe = \"f\"\n",
        "geraten = \"\"\n",
        "\n",
        "# Schleife \n",
        "while geraten != buchstabe:\n",
        "    print(\"Rate einen kleinen Buchstabens: \")\n",
        "    geraten = input()\n",
        "    if geraten != buchstabe: \n",
        "        print(\"Leider Falsch\")\n",
        "print(\"Richtig!\")"
      ],
      "execution_count": null,
      "outputs": []
    },
    {
      "cell_type": "markdown",
      "metadata": {
        "id": "VA0XFzkCHONv"
      },
      "source": [
        "## Tutorial 3c: For-Schleifen"
      ]
    },
    {
      "cell_type": "markdown",
      "metadata": {
        "id": "vt3itHctOo1a"
      },
      "source": [
        "### Möglichkeit 1: range()\n",
        "Zum Aufbau einer for-Schleife haben wir zwei Möglichkeiten. Die erste Möglichkeit ist die for-Schleife mit einem in-range()-Befehl.  \n",
        "In dieser Möglcihkeit wird ein Zähler nach jeder Iteration der for-Schleife um 1 hochgezählt.  \n",
        "Bei dem in-range-Befehl() geben wir innerhalb der Klammern den Start und das Ende als int an:  \n",
        "in range(start, ende)  \n",
        "Wichtig ist, dass für den letzten Wert, d.h. ende, die for-Schleife nicht mehr ausgeführt wird.  \n",
        "Der Name des Zählers kann frei gewählt werden.  \n",
        "Das ist der Aufbau einer for-Schleife mit in-range-Befehl: \n",
        "```\n",
        "for zaehler in range (start, ende): \n",
        "    anweisung\n",
        "```"
      ]
    },
    {
      "cell_type": "markdown",
      "metadata": {
        "id": "2wYdXwwIHONv"
      },
      "source": [
        "Schreibe eine for-Schleife  \n",
        "Die for-Schleife soll 5 Mal den Satz: \"Ich bin gefangen in einer for-Schleife\" ausgeben. "
      ]
    },
    {
      "cell_type": "code",
      "metadata": {
        "colab": {
          "base_uri": "https://localhost:8080/"
        },
        "id": "NZuUUCzZHONv",
        "outputId": "af80d0d8-7d4c-46f6-e993-ce7157acdbc7"
      },
      "source": [
        "for i in range(1,6):\n",
        "    print(\"Ich bin gefangen in einer for-Schleife\")"
      ],
      "execution_count": null,
      "outputs": [
        {
          "output_type": "stream",
          "text": [
            "Ich bin gefangen in einer for-Schleife\n",
            "Ich bin gefangen in einer for-Schleife\n",
            "Ich bin gefangen in einer for-Schleife\n",
            "Ich bin gefangen in einer for-Schleife\n",
            "Ich bin gefangen in einer for-Schleife\n"
          ],
          "name": "stdout"
        }
      ]
    },
    {
      "cell_type": "markdown",
      "metadata": {
        "id": "PYRjAW9QHONv"
      },
      "source": [
        "Erweiter die for-Schleife, indem du die aktuelle Iteration im Satz angibst.  \n",
        "Der Satz soll beispielsweise lauten: \"Ich bin gefangen in der 3. Iteration der for-Schleife\". "
      ]
    },
    {
      "cell_type": "code",
      "metadata": {
        "colab": {
          "base_uri": "https://localhost:8080/"
        },
        "id": "H1O6owdBHONw",
        "outputId": "e7e3537a-15c0-4fb7-f739-3078fb3a7b73"
      },
      "source": [
        "for i in range(1,6):\n",
        "    print(\"Ich bin gefangen in der \" + str(i) + \".ten Iteration der for-Schleife\")"
      ],
      "execution_count": null,
      "outputs": [
        {
          "output_type": "stream",
          "text": [
            "Ich bin gefangen in der 1.ten Iteration der for-Schleife\n",
            "Ich bin gefangen in der 2.ten Iteration der for-Schleife\n",
            "Ich bin gefangen in der 3.ten Iteration der for-Schleife\n",
            "Ich bin gefangen in der 4.ten Iteration der for-Schleife\n",
            "Ich bin gefangen in der 5.ten Iteration der for-Schleife\n"
          ],
          "name": "stdout"
        }
      ]
    },
    {
      "cell_type": "markdown",
      "metadata": {
        "id": "6PAjyG6CHONw"
      },
      "source": [
        "---"
      ]
    },
    {
      "cell_type": "markdown",
      "metadata": {
        "id": "EEZrRjGSOjNx"
      },
      "source": [
        "### Möglichkeit 2: Elemente einer Liste  \n",
        "Anstatt einen Zähler hochzuzählen, können wir der Variablen innerhalb einer for-Schleife die Werte aus einer Liste zuweisen.  \n",
        "Dafür benötigen wir eine Liste mit mehreren Elementen (ints), beispielsweise:   \n",
        "meine_liste = [0, 1, 3, 3, 7, 99]  \n",
        "\n",
        "Diese Liste kann innerhalb der for-Schleife durchlaufen werden. Bei jeder Iteration nimmt die Variable der Schleife den nächsten Wert aus der Liste an. Sobald die Liste durchlaufen ist, wird auch die for-Schleife beendet:   \n",
        "```\n",
        "for element in meine_liste:  \n",
        "    print(element)\n",
        "```\n",
        "Die Variable der Schleife (hier element) können wir beliebig wählen."
      ]
    },
    {
      "cell_type": "markdown",
      "metadata": {
        "id": "n7QwrOJTHONy"
      },
      "source": [
        "Erstelle eine Liste:  \n",
        "himmelsrichtungen  \n",
        "Diese Liste enthält die Elemente \"Norden\", \"Osten\", \"Sueden\", \"Westen\".  \n",
        "\n",
        "Erstelle eine for-Schleife, die auf jedes Element der Liste himmelsrichtungen zugreift und den Text ausgibt:  \n",
        "\n",
        "\"Der Kompass zeigt Richtung: \\<himmelsrichtung>\"  (Statt \\<himmelsrichtung> soll die tatsächliche Himmelsrichtung ausgegeben werden.)"
      ]
    },
    {
      "cell_type": "code",
      "metadata": {
        "colab": {
          "base_uri": "https://localhost:8080/"
        },
        "id": "0jxfvdDsHONy",
        "outputId": "c79a23d4-b520-4f21-9706-b9581b9fa7ce"
      },
      "source": [
        "himmelsrichtungen = [\"Norden\", \"Osten\", \"Sueden\", \"Westen\"]\n",
        "for richtung in himmelsrichtungen: \n",
        "    print(\"Der Kompass zeigt Richtung: \" + str(richtung))"
      ],
      "execution_count": null,
      "outputs": [
        {
          "output_type": "stream",
          "text": [
            "Der Kompass zeigt Richtung: Norden\n",
            "Der Kompass zeigt Richtung: Osten\n",
            "Der Kompass zeigt Richtung: Sueden\n",
            "Der Kompass zeigt Richtung: Westen\n"
          ],
          "name": "stdout"
        }
      ]
    },
    {
      "cell_type": "markdown",
      "metadata": {
        "id": "Uj3r5HPX6Hkn"
      },
      "source": [
        "## Lösungen zu den weiterführenden Aufgaben: "
      ]
    },
    {
      "cell_type": "markdown",
      "metadata": {
        "id": "bhe09O3JH318"
      },
      "source": [
        "### Zuordnung der Szenarien zu den Kontrollstrukturen"
      ]
    },
    {
      "cell_type": "markdown",
      "metadata": {
        "id": "GVH9tJnB6Nmf"
      },
      "source": [
        "Szenario 1: If-/Else-Anweisung  \n",
        "Szenario 2: For-Schleife oder while-Schleife (mit zusätzlicher Variable)  \n",
        "Szenario 3: For-Schleife  \n",
        "Szenario 4: While-Schleife  \n",
        "Szenario 5: While-Schleife und If-/Else-Anweisung"
      ]
    },
    {
      "cell_type": "markdown",
      "metadata": {
        "id": "QM__6sxJPPS0"
      },
      "source": [
        "### Code zu den einzelnen Szenarien"
      ]
    },
    {
      "cell_type": "markdown",
      "metadata": {
        "id": "HJjC45YJ6azg"
      },
      "source": [
        "Szenario 1: \n"
      ]
    },
    {
      "cell_type": "code",
      "metadata": {
        "colab": {
          "base_uri": "https://localhost:8080/"
        },
        "id": "8b38DLfI6dJx",
        "outputId": "eb149d01-25b4-4887-b651-aad472c36a9c"
      },
      "source": [
        "le_ampel = 'rot'\n",
        "if le_ampel == 'rot':\n",
        "    le_person = 'stehen'\n",
        "else:\n",
        "    le_person = 'laufen'\n",
        "\n",
        "print(le_person)"
      ],
      "execution_count": null,
      "outputs": [
        {
          "output_type": "stream",
          "text": [
            "stehen\n"
          ],
          "name": "stdout"
        }
      ]
    },
    {
      "cell_type": "markdown",
      "metadata": {
        "id": "aSEfALGk-efc"
      },
      "source": [
        "Szenario 2: "
      ]
    },
    {
      "cell_type": "markdown",
      "metadata": {
        "id": "je_aSLyc-3-V"
      },
      "source": [
        "For-Schleife: "
      ]
    },
    {
      "cell_type": "code",
      "metadata": {
        "colab": {
          "base_uri": "https://localhost:8080/"
        },
        "id": "38YerDGk-g6M",
        "outputId": "4587feb9-b45f-4f17-8688-e9589a42bbd8"
      },
      "source": [
        "le_alter = 18\n",
        "n = 5\n",
        "for i in range(n):\n",
        "    le_alter += 1 # oder: le_alter = le_alter + 1\n",
        "    print(le_alter)"
      ],
      "execution_count": null,
      "outputs": [
        {
          "output_type": "stream",
          "text": [
            "19\n",
            "20\n",
            "21\n",
            "22\n",
            "23\n"
          ],
          "name": "stdout"
        }
      ]
    },
    {
      "cell_type": "markdown",
      "metadata": {
        "id": "0IwwUnJM-5lu"
      },
      "source": [
        "While-Schleife: "
      ]
    },
    {
      "cell_type": "code",
      "metadata": {
        "colab": {
          "base_uri": "https://localhost:8080/"
        },
        "id": "pESV3FydAD48",
        "outputId": "47700a85-a0b4-4d9d-8475-c65e98280a16"
      },
      "source": [
        "le_alter = 18\n",
        "le_altersgrenze = 18 + 5\n",
        "while le_alter < le_altersgrenze:\n",
        "    le_alter += 1\n",
        "    print(le_alter)"
      ],
      "execution_count": null,
      "outputs": [
        {
          "output_type": "stream",
          "text": [
            "19\n",
            "20\n",
            "21\n",
            "22\n",
            "23\n"
          ],
          "name": "stdout"
        }
      ]
    },
    {
      "cell_type": "markdown",
      "metadata": {
        "id": "np07MZzv7hL-"
      },
      "source": [
        "Szenario 3:"
      ]
    },
    {
      "cell_type": "code",
      "metadata": {
        "colab": {
          "base_uri": "https://localhost:8080/"
        },
        "id": "lYvzbJ3v7klG",
        "outputId": "7b53e677-25c4-4039-ff3a-05746d168192"
      },
      "source": [
        "for preis in le_preisliste:\n",
        "    print(preis*0.19)"
      ],
      "execution_count": null,
      "outputs": [
        {
          "output_type": "stream",
          "text": [
            "0.19\n",
            "0.5700000000000001\n",
            "0.95\n",
            "1.9\n"
          ],
          "name": "stdout"
        }
      ]
    },
    {
      "cell_type": "markdown",
      "metadata": {
        "id": "9s0JJ6v3BmhD"
      },
      "source": [
        "Szenario 4:  "
      ]
    },
    {
      "cell_type": "code",
      "metadata": {
        "colab": {
          "base_uri": "https://localhost:8080/"
        },
        "id": "0lu4kJzyBogL",
        "outputId": "4ca20ccc-2696-4e92-c940-4b3ef050deed"
      },
      "source": [
        "le_nummer_personen = 0\n",
        "while le_nummer_personen < 15:\n",
        "    le_nummer_personen += 1 \n",
        "    print(le_nummer_personen)\n",
        "print(\"Halt stopp, es sind \" + str(le_number_personen) + \" Personen im Haus\")"
      ],
      "execution_count": null,
      "outputs": [
        {
          "output_type": "stream",
          "text": [
            "1\n",
            "2\n",
            "3\n",
            "4\n",
            "5\n",
            "6\n",
            "7\n",
            "8\n",
            "9\n",
            "10\n",
            "11\n",
            "12\n",
            "13\n",
            "14\n",
            "15\n",
            "Halt stopp, es sind 15 Personen im Haus\n"
          ],
          "name": "stdout"
        }
      ]
    },
    {
      "cell_type": "markdown",
      "metadata": {
        "id": "2Y4Ug144MMjW"
      },
      "source": [
        "Szenario 5:"
      ]
    },
    {
      "cell_type": "code",
      "metadata": {
        "colab": {
          "base_uri": "https://localhost:8080/"
        },
        "id": "_qcgGmgVF28f",
        "outputId": "24a61fff-1d63-4f2b-9bef-e6047387c040"
      },
      "source": [
        "import random\n",
        "le_paket_nummer = 0\n",
        "le_gesamtgewicht = 0\n",
        "\n",
        "while le_paket_nummer < 10:\n",
        "    le_paket_gewicht = random.randint(1,5)\n",
        "    le_gesamtgewicht = le_gesamtgewicht + le_paket_gewicht\n",
        "    le_paket_nummer += 1\n",
        "    print(\"le_gesamtgewicht: \" + str(le_gesamtgewicht))\n",
        "    print(\"le_paket_nummer \" + str(le_paket_nummer))\n",
        "    if le_gesamtgewicht > 25: \n",
        "        break\n"
      ],
      "execution_count": null,
      "outputs": [
        {
          "output_type": "stream",
          "text": [
            "le_gesamtgewicht: 2\n",
            "le_paket_nummer 1\n",
            "le_gesamtgewicht: 3\n",
            "le_paket_nummer 2\n",
            "le_gesamtgewicht: 7\n",
            "le_paket_nummer 3\n",
            "le_gesamtgewicht: 11\n",
            "le_paket_nummer 4\n",
            "le_gesamtgewicht: 14\n",
            "le_paket_nummer 5\n",
            "le_gesamtgewicht: 15\n",
            "le_paket_nummer 6\n",
            "le_gesamtgewicht: 18\n",
            "le_paket_nummer 7\n",
            "le_gesamtgewicht: 19\n",
            "le_paket_nummer 8\n",
            "le_gesamtgewicht: 24\n",
            "le_paket_nummer 9\n",
            "le_gesamtgewicht: 26\n",
            "le_paket_nummer 10\n"
          ],
          "name": "stdout"
        }
      ]
    }
  ]
}