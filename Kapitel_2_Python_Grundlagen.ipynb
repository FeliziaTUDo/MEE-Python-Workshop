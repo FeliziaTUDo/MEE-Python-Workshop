{
  "nbformat": 4,
  "nbformat_minor": 0,
  "metadata": {
    "colab": {
      "name": "Kapitel 2: Python-Grundlagen.ipynb",
      "provenance": [],
      "collapsed_sections": [
        "LRnrYSa2hoS3",
        "QOMnhGb77oBM",
        "wDHTijRS8aSQ",
        "di2C52EKaiNK",
        "sJSu1an_vTBR",
        "9oG5JcKcfJUL",
        "KR7iVK1wZu0B",
        "PqZyVuJnjHVG",
        "d4W1ldHlxJHi",
        "3ZEI_NV_umal",
        "ntQK_sZUupW-",
        "rTrmYqNlutkG",
        "GB6j8TnJutkJ",
        "5YEH187aZPF_",
        "_ElyHlv503Yj",
        "G2WQB4N4ulRb"
      ]
    },
    "kernelspec": {
      "name": "python3",
      "display_name": "Python 3"
    },
    "language_info": {
      "name": "python"
    }
  },
  "cells": [
    {
      "cell_type": "markdown",
      "metadata": {
        "id": "tFt1PMQehd_T"
      },
      "source": [
        "# Willkommen im Python-Workshop"
      ]
    },
    {
      "cell_type": "markdown",
      "metadata": {
        "id": "LRnrYSa2hoS3"
      },
      "source": [
        "# Kapitel 2: Python-Grundlagen"
      ]
    },
    {
      "cell_type": "markdown",
      "metadata": {
        "id": "QOMnhGb77oBM"
      },
      "source": [
        "## Tutorial 2a: Einstieg in Python Google Colab"
      ]
    },
    {
      "cell_type": "markdown",
      "metadata": {
        "id": "zY7fNccs7ug9"
      },
      "source": [
        "Gib in die folgende Zelle den Code\n",
        "```\n",
        "eine_variable = 42\n",
        "```\n",
        "ein. Führe die Zelle aus, indem du auf den Play-Button klickst oder indem du [Shift] und [Enter] drückst.  \n"
      ]
    },
    {
      "cell_type": "code",
      "metadata": {
        "id": "YR9sxinY7r98"
      },
      "source": [
        ""
      ],
      "execution_count": null,
      "outputs": []
    },
    {
      "cell_type": "markdown",
      "metadata": {
        "id": "exhm5bZP8DfO"
      },
      "source": [
        "In der Variablen \"eine_variable\" ist jetzt der Wert 42 gespeichert.  \n",
        "Gib den Wert der Variablen aus, indem du in die nächste Zelle folgenden Code eingibst und die Zelle ausführst:  \n",
        "```\n",
        "print(eine_variable)\n",
        "```"
      ]
    },
    {
      "cell_type": "code",
      "metadata": {
        "id": "cgGvAUhm8Zgn",
        "colab": {
          "base_uri": "https://localhost:8080/"
        },
        "outputId": "3f5666fb-4423-4a77-ef32-d10e3564d8cf"
      },
      "source": [
        ""
      ],
      "execution_count": null,
      "outputs": [
        {
          "output_type": "stream",
          "text": [
            "42\n"
          ],
          "name": "stdout"
        }
      ]
    },
    {
      "cell_type": "markdown",
      "metadata": {
        "id": "8Mr_ldQgnpya"
      },
      "source": [
        "Innerhalb der Klammern der print()-Anweisung können wir nicht nur Variablen, sondern jeden anderen beliebigen Text ausgeben. Ein Text muss in einfachen ' ' oder doppelten \" \" Anführungszeichen stehen.  \n",
        "Gib in die nächste Zelle folgenden Code ein:\n",
        "```\n",
        "print(\"Hallo Python-Workshop\")\n",
        "```\n"
      ]
    },
    {
      "cell_type": "code",
      "metadata": {
        "colab": {
          "base_uri": "https://localhost:8080/"
        },
        "id": "WVszbQJThzGB",
        "outputId": "6b5fed4d-9011-4d2b-8ed2-2a370987f948"
      },
      "source": [
        ""
      ],
      "execution_count": null,
      "outputs": [
        {
          "output_type": "stream",
          "text": [
            "Hallo Python-Workshop\n"
          ],
          "name": "stdout"
        }
      ]
    },
    {
      "cell_type": "markdown",
      "metadata": {
        "id": "jiJQ1PmHtJkd"
      },
      "source": [
        "Um Variablen und Text zusammen mit einer print()-Anweisung auszugeben, müssen wir die Variable in Text umwandeln. Dafür nutzen wir die str()-Funktion und \"bauen\" den Text zusammen.  \n",
        "Gib in die nächste den folgenden Code an: \n",
        "``` \n",
        "print(\"eine_variable hat den Wert: \" + str(eine_variable))\n",
        "```\n"
      ]
    },
    {
      "cell_type": "code",
      "metadata": {
        "colab": {
          "base_uri": "https://localhost:8080/"
        },
        "id": "zol6vlIIoyrT",
        "outputId": "196dc40e-6ede-4444-e6f2-c3832848f568"
      },
      "source": [
        ""
      ],
      "execution_count": null,
      "outputs": [
        {
          "output_type": "stream",
          "text": [
            "eine_variable hat den Wert: 42\n"
          ],
          "name": "stdout"
        }
      ]
    },
    {
      "cell_type": "markdown",
      "metadata": {
        "id": "wDHTijRS8aSQ"
      },
      "source": [
        "## Tutorial 2b: Datentypen"
      ]
    },
    {
      "cell_type": "markdown",
      "metadata": {
        "id": "t_83ri4haC3R"
      },
      "source": [
        "In einer Variable können verschiedene Inhalte gespeichert werden. Welche Inhalte zulässig sind, wird durch den Datentyp festgelegt.  \n",
        "Bei der Initialisierung einer Variablen (d.h. sobald ein Wert zugewiesen wird), wird der Datentyp von Python automatisch bestimmt. Wir können den Datentyp aber auch nacträglich ändern.  \n",
        "In diesem Workshop arbeiten wir mit den vier wichtigsten Datentypen: \n",
        "\n",
        "\n",
        "*   Strings und Chars \n",
        "*   Integers und Floats\n",
        "\n"
      ]
    },
    {
      "cell_type": "markdown",
      "metadata": {
        "id": "di2C52EKaiNK"
      },
      "source": [
        "### Strings und Chars"
      ]
    },
    {
      "cell_type": "markdown",
      "metadata": {
        "id": "4LwDFdirpCF7"
      },
      "source": [
        "Chars sind einzelne Zeichen. Ein Text ist eine Kette aus Chars und wir bezeichnen sie in Python als \"String\". Strings und Chars befinden sich immer in einfachen oder doppelten Anführungszeichen.  Es gibt keine Regel, wann doppelte oder einfach Anführungszeichen verwendet werden. Das kann man sich also aussuchen. \n",
        "\n",
        "Ausnahme: Wenn innerhalb des Strings doppelte Anführungszeichen verwendet werden sollen, wird der String mit einfachen Anführungszeichen gestartet und beendet (und umgekehrt)  \n",
        "Beispiel (führe die nachfolgende Zelle aus):  \n"
      ]
    },
    {
      "cell_type": "code",
      "metadata": {
        "colab": {
          "base_uri": "https://localhost:8080/"
        },
        "id": "9-z6xFzFvrBA",
        "outputId": "1d8abc1b-80b0-4ef5-8c58-997241338e33"
      },
      "source": [
        "print(\"Als der Bus um die Ecke bog, rief Kesey 'Obacht!'\")"
      ],
      "execution_count": null,
      "outputs": [
        {
          "output_type": "stream",
          "text": [
            "Als der Bus um die Ecke bog, rief Kesey 'Obacht!'\n"
          ],
          "name": "stdout"
        }
      ]
    },
    {
      "cell_type": "markdown",
      "metadata": {
        "id": "7fylHVo_dlmv"
      },
      "source": [
        "Wenn sich der string in der print()-Anweisung befindet, wird er nicht gespeichert. Um ihn zu speichern, müssen wir eine Variable zuweisen, so wie in der nachfolgenden Zelle.  \n",
        "Ergänz bitte die beiden Sätze und gib beide Sätze aus."
      ]
    },
    {
      "cell_type": "code",
      "metadata": {
        "id": "AdAZwI9gftMo"
      },
      "source": [
        "satzteil1 = \"Ich heiße ________\"\n",
        "satzteil2 = \"Ich studiere _________\""
      ],
      "execution_count": null,
      "outputs": []
    },
    {
      "cell_type": "code",
      "metadata": {
        "colab": {
          "base_uri": "https://localhost:8080/"
        },
        "id": "kBAQzaDQgOLb",
        "outputId": "7e190371-6e6b-4560-b79e-3f93917298c9"
      },
      "source": [
        ""
      ],
      "execution_count": null,
      "outputs": [
        {
          "output_type": "stream",
          "text": [
            "Ich heiße ________\n",
            "Ich studiere _________\n"
          ],
          "name": "stdout"
        }
      ]
    },
    {
      "cell_type": "markdown",
      "metadata": {
        "id": "B6A7rhxsgcgL"
      },
      "source": [
        "Jetzt wollen wir beide Satzteile verbinden, ohne sie zu verändern. Das können wir mit dem + Symbol durchführen.  \n",
        "Verbinde beide Satzteile in einer neuen Variablen text und gib diese aus"
      ]
    },
    {
      "cell_type": "code",
      "metadata": {
        "colab": {
          "base_uri": "https://localhost:8080/"
        },
        "id": "GNARBcF6e6VN",
        "outputId": "b557d75f-3517-4285-d1d2-d18104f21ae2"
      },
      "source": [
        ""
      ],
      "execution_count": null,
      "outputs": [
        {
          "output_type": "stream",
          "text": [
            "Ich heiße ________Ich studiere _________\n"
          ],
          "name": "stdout"
        }
      ]
    },
    {
      "cell_type": "markdown",
      "metadata": {
        "id": "ctFuNAebhGLm"
      },
      "source": [
        "Das sieht natürlich nicht gut aus. Wir wollen, dass beide Sätze durch einen Punkt und ein Leerzeichen verbunden werden.  \n",
        "Da es sich auch um einen String handelt, können wir das einfach durch + \". \" an der richtigen Stelle durchführen.  \n",
        "Speicher den Text so, dass er lautet: \n",
        "Ich heiße \\_\\_\\_\\_\\_\\_\\_\\_. Ich studiere \\_\\_\\_\\_\\_\\_\\_\\_\\_\\_\\_.  \n",
        "Gib die Variable text wieder aus. "
      ]
    },
    {
      "cell_type": "code",
      "metadata": {
        "colab": {
          "base_uri": "https://localhost:8080/"
        },
        "id": "T8VVDWWCiLWz",
        "outputId": "c2299371-13d2-4ca1-f134-eb769bbba73c"
      },
      "source": [
        ""
      ],
      "execution_count": null,
      "outputs": [
        {
          "output_type": "stream",
          "text": [
            "Ich heiße ________. Ich studiere _________.\n"
          ],
          "name": "stdout"
        }
      ]
    },
    {
      "cell_type": "markdown",
      "metadata": {
        "id": "-Rez34S6dhtO"
      },
      "source": [
        "Über den Index können wir auf die einzelnen Positionen des Strings zugreifen.  \n",
        "Speicher das erste, das vorletzte Zeichen des Satzes jeweils in einer neuen Variablen und gib diese aus (Tipp: Man kann von beiden Seiten auf einen String zugreifen).\n"
      ]
    },
    {
      "cell_type": "code",
      "metadata": {
        "colab": {
          "base_uri": "https://localhost:8080/"
        },
        "id": "cTOn1gP8kX8U",
        "outputId": "c02180b6-da5f-4ac8-bd65-b4807f51d44e"
      },
      "source": [
        ""
      ],
      "execution_count": null,
      "outputs": [
        {
          "output_type": "stream",
          "text": [
            "I\n",
            "_\n"
          ],
          "name": "stdout"
        }
      ]
    },
    {
      "cell_type": "markdown",
      "metadata": {
        "id": "aVwv7jLDdDd1"
      },
      "source": [
        "### Integers und Floats"
      ]
    },
    {
      "cell_type": "markdown",
      "metadata": {
        "id": "Cf5b4yCOmO_M"
      },
      "source": [
        "Zahlenwerte werden als ganze Zahl in() oder als Fließkommazahl float() abgespeichert. Diese Zuweisung erfolgt automatisch durch Python.  \n",
        "Erstelle drei Variablen:  \n",
        "```\n",
        "v1 = 1\n",
        "v2 = 2\n",
        "v3 = 3\n",
        "```"
      ]
    },
    {
      "cell_type": "code",
      "metadata": {
        "id": "qJj_rpt77nqC"
      },
      "source": [
        ""
      ],
      "execution_count": null,
      "outputs": []
    },
    {
      "cell_type": "markdown",
      "metadata": {
        "id": "TYTSrufJoNVE"
      },
      "source": [
        "Addiere v1 und v3 und speicher den Wert in der variablen v4.  \n",
        "Kontrolliere dein Ergebnis, indem du v4 ausgibst."
      ]
    },
    {
      "cell_type": "code",
      "metadata": {
        "id": "kznwyUWMoVA8"
      },
      "source": [
        ""
      ],
      "execution_count": null,
      "outputs": []
    },
    {
      "cell_type": "markdown",
      "metadata": {
        "id": "GkpZTo3zoctE"
      },
      "source": [
        "Mutlipliziere v2 und v4 und speicher das Ergebnis in der neuen Variablen v5. Gib v5 zur Kontrolle aus. "
      ]
    },
    {
      "cell_type": "code",
      "metadata": {
        "id": "aiL0mz80okWs"
      },
      "source": [
        ""
      ],
      "execution_count": null,
      "outputs": []
    },
    {
      "cell_type": "markdown",
      "metadata": {
        "id": "2-DSRYcBonfV"
      },
      "source": [
        "Ziehe von der Variablen v5 den Wert 5 ab und speicher das Ergebnis in der Variablen v6. Gib v6 zur Kontrolle aus. "
      ]
    },
    {
      "cell_type": "code",
      "metadata": {
        "id": "65GHIjhspvN6"
      },
      "source": [
        ""
      ],
      "execution_count": null,
      "outputs": []
    },
    {
      "cell_type": "markdown",
      "metadata": {
        "id": "_T2Z7RvPpzAS"
      },
      "source": [
        "Berechne v2 zum Quadrat und speicher das Ergebnis in der Variablen v7, die du zur Kontrolle ausgibst.  \n",
        "Verwende die korrekte Anweisung für Potenzen und nicht die Multiplikation v2 * v2."
      ]
    },
    {
      "cell_type": "code",
      "metadata": {
        "id": "AWUcxwhhqZYc"
      },
      "source": [
        ""
      ],
      "execution_count": null,
      "outputs": []
    },
    {
      "cell_type": "markdown",
      "metadata": {
        "id": "gVNuXnAdpy6q"
      },
      "source": [
        "Dividiere v7 durch v3 und speicher das Ergebnis in der Variable v8. Gib v8 zur Kontrolle aus. "
      ]
    },
    {
      "cell_type": "code",
      "metadata": {
        "id": "WCS2f1Iaqcmk"
      },
      "source": [
        ""
      ],
      "execution_count": null,
      "outputs": []
    },
    {
      "cell_type": "markdown",
      "metadata": {
        "id": "x8pMjPHmrJPg"
      },
      "source": [
        "Berechne v3 modulo v7 und speicher das Ergebnis in der Variable v9.Gib v9 zur Kontrolle aus. "
      ]
    },
    {
      "cell_type": "code",
      "metadata": {
        "id": "mrMGdCjbqpWu"
      },
      "source": [
        ""
      ],
      "execution_count": null,
      "outputs": []
    },
    {
      "cell_type": "markdown",
      "metadata": {
        "id": "nM36Bkrx7xCz"
      },
      "source": [
        "Die Variable v8 kann nun kein int mehr sein. Gibt dir mit der type()-Anweisung den Typ der Variablen v8 aus. "
      ]
    },
    {
      "cell_type": "code",
      "metadata": {
        "id": "fXdxm2oK8w4O"
      },
      "source": [
        ""
      ],
      "execution_count": null,
      "outputs": []
    },
    {
      "cell_type": "markdown",
      "metadata": {
        "id": "E6KH3qrpynZy"
      },
      "source": [
        "Wandel v8 wieder in einen int um und gib dir das Ergebnis aus. Die Umwandlung bezeichnet man auch als \"Casten\""
      ]
    },
    {
      "cell_type": "code",
      "metadata": {
        "id": "1W9UeoOFsq1O"
      },
      "source": [
        ""
      ],
      "execution_count": null,
      "outputs": []
    },
    {
      "cell_type": "markdown",
      "metadata": {
        "id": "Kva79gpls59G"
      },
      "source": [
        "Speicher den Wert 133.7 in der Variablen v10 ab und wandel diese in einen int um. Was ist das Ergebnis?"
      ]
    },
    {
      "cell_type": "code",
      "metadata": {
        "id": "F1-xAt33tEL_"
      },
      "source": [
        ""
      ],
      "execution_count": null,
      "outputs": []
    },
    {
      "cell_type": "markdown",
      "metadata": {
        "id": "Vi88vL5QtSyI"
      },
      "source": [
        "Speicher den Wert 5 in der Variablen v11 ab und wandel diese in einen float um. Was ist das Ergebnis?"
      ]
    },
    {
      "cell_type": "code",
      "metadata": {
        "id": "tjPFdu_KtOCl"
      },
      "source": [
        ""
      ],
      "execution_count": null,
      "outputs": []
    },
    {
      "cell_type": "markdown",
      "metadata": {
        "id": "QX80Tqq9tgzY"
      },
      "source": [
        "Über Funktionen wie int(), float() und str() lassen sich die Datentypen ineinander umwandeln. Überlege, welche Datentypen problemlos in andere umzuwandeln sind und bei welchen Umwandlungen könnte es Probleme geben?"
      ]
    },
    {
      "cell_type": "markdown",
      "metadata": {
        "id": "sJSu1an_vTBR"
      },
      "source": [
        "## Tutorial 2c: Datenstrukturen"
      ]
    },
    {
      "cell_type": "markdown",
      "metadata": {
        "id": "9oG5JcKcfJUL"
      },
      "source": [
        "### Listen"
      ]
    },
    {
      "cell_type": "markdown",
      "metadata": {
        "id": "HJVfFE4wVLS6"
      },
      "source": [
        "Zum Abspeichern mehrerer Werte nutzen wir Listen.  \n",
        "Eine Liste enthält mehrere Werte (oder auch manchmal einen Wert oder keinen Wert). Sie wird mit eckigen Klammern [ ] erstellt.  \n",
        "Erstelle die folgenden Listen:  \n",
        "Die erste Liste \"fibonacci\" enthält die Elemente: 0, 1, 1, 2, 3, 5, 8  \n",
        "Die zweite Liste \"stadte\" enthält die Elemente: Peking, New York, Dubai, Witten    \n",
        "Die dritte Liste \"zufall\" enthält die Elemente 42, ?, 420, !, :)"
      ]
    },
    {
      "cell_type": "code",
      "metadata": {
        "id": "RwwSLhf6TbJR"
      },
      "source": [
        "fibonacci = [0, 1, 1, 2, 3, 5, 8]\n",
        "staedte = [\"Peking\", \"New York\", \"Dubai\", \"Witten\"]\n",
        "zufall = [42, \"?\", 420, \"!\", \":)\"]"
      ],
      "execution_count": null,
      "outputs": []
    },
    {
      "cell_type": "markdown",
      "metadata": {
        "id": "wE2T7gmM-xfW"
      },
      "source": [
        "Wichtig: Falls in den folgenden Aufgaben einige Elemente deiner Liste fehlen oder zu viele vorhanden sind, führ die obere Zelle mit dem Erstellen der Liste erneut aus und dann alle weiteren Zellen genau ein mal)  \n",
        "\n",
        "---\n"
      ]
    },
    {
      "cell_type": "markdown",
      "metadata": {
        "id": "JWe-SHvibDoH"
      },
      "source": [
        "Füg zu der Liste stadte die zwei Städte \"Paris\" und \"Warschau\" hinzu,  Füg diese Städte zu der Liste hinzu (ohne die Liste in der oberen Zelle zu verändern)."
      ]
    },
    {
      "cell_type": "code",
      "metadata": {
        "id": "Mnh_eyIeySeF"
      },
      "source": [
        "staedte.append(\"Paris\")\n",
        "staedte.append(\"Warschau\")"
      ],
      "execution_count": null,
      "outputs": []
    },
    {
      "cell_type": "markdown",
      "metadata": {
        "id": "LBpGtaTMX--q"
      },
      "source": [
        "Gib zur Kontrolle das letzte Element der Liste, das vorletzte Element der Liste und die gesamte Liste aus."
      ]
    },
    {
      "cell_type": "code",
      "metadata": {
        "colab": {
          "base_uri": "https://localhost:8080/"
        },
        "id": "PSsPznRFX-yK",
        "outputId": "fd7ae628-9a17-44ea-d0a2-97743c4f16e6"
      },
      "source": [
        "print(staedte[-1])\n",
        "print(staedte[-2])\n",
        "print(staedte)"
      ],
      "execution_count": null,
      "outputs": [
        {
          "output_type": "stream",
          "text": [
            "Warschau\n",
            "Paris\n",
            "['Peking', 'New York', 'Dubai', 'Witten', 'Paris', 'Warschau']\n"
          ],
          "name": "stdout"
        }
      ]
    },
    {
      "cell_type": "markdown",
      "metadata": {
        "id": "W5X__RLrBNz1"
      },
      "source": [
        "Die Stadt New York soll gegen Toronto ersetzt werden. Greif hierfür auf New York über den Index der Liste zu und schreibe Toronto an diese Stelle. Gib auch danach die Liste mit den Städten wieder aus. "
      ]
    },
    {
      "cell_type": "code",
      "metadata": {
        "colab": {
          "base_uri": "https://localhost:8080/"
        },
        "id": "LkyfS1M9BNDu",
        "outputId": "155907a6-1898-420f-b7c3-1579ad2dad43"
      },
      "source": [
        "staedte[1] = \"Toronto\"\n",
        "print(staedte)"
      ],
      "execution_count": null,
      "outputs": [
        {
          "output_type": "stream",
          "text": [
            "['Peking', 'Toronto', 'Dubai', 'Witten', 'Paris', 'Warschau']\n"
          ],
          "name": "stdout"
        }
      ]
    },
    {
      "cell_type": "markdown",
      "metadata": {
        "id": "jEWacEIxFzVm"
      },
      "source": [
        "Spontan hast du dich doch gegen die Stadt Warschau entschieden. Entferne diese Stadt wieder aus der Liste. Gib die Liste und das Element aus. Was passiert wenn du die Zelle mehrmals ausführst?"
      ]
    },
    {
      "cell_type": "code",
      "metadata": {
        "id": "6Qsw4cJDEAjg",
        "colab": {
          "base_uri": "https://localhost:8080/"
        },
        "outputId": "162a4fa7-c754-4198-80ce-ce7b96ffb69a"
      },
      "source": [
        "entfernte_stadt = staedte.pop()\n",
        "print(staedte)\n",
        "print(entfernte_stadt)"
      ],
      "execution_count": null,
      "outputs": [
        {
          "output_type": "stream",
          "text": [
            "['Peking', 'Toronto', 'Dubai', 'Witten', 'Paris']\n",
            "Warschau\n"
          ],
          "name": "stdout"
        }
      ]
    },
    {
      "cell_type": "markdown",
      "metadata": {
        "id": "VR9F0hi5hzA2"
      },
      "source": [
        "Erstelle eine Liste \"zwei_staedte\", die nur die Städte der zweiten und dritten Position der Städteliste enthält. Gib diese neue Städteliste aus.  "
      ]
    },
    {
      "cell_type": "code",
      "metadata": {
        "colab": {
          "base_uri": "https://localhost:8080/"
        },
        "id": "-Dh-CLOshyu9",
        "outputId": "d9c86380-be6b-4908-91a2-13beb6ae6a2d"
      },
      "source": [
        "zwei_staedte = staedte[1:3]\n",
        "print(zwei_staedte)"
      ],
      "execution_count": null,
      "outputs": [
        {
          "output_type": "stream",
          "text": [
            "['Toronto', 'Dubai']\n"
          ],
          "name": "stdout"
        }
      ]
    },
    {
      "cell_type": "markdown",
      "metadata": {
        "id": "rlfJwpfJWo6l"
      },
      "source": [
        "Hier sind zusätzliche Informationen, wie du die extend()-, die sort()- und die reverse()-Anweisung anwendest:"
      ]
    },
    {
      "cell_type": "code",
      "metadata": {
        "colab": {
          "base_uri": "https://localhost:8080/"
        },
        "id": "CrK6ccsZcuvY",
        "outputId": "b59e873c-c532-41df-d699-033c69a8b6fa"
      },
      "source": [
        "# Kombination zweier Listen mit der .extend()-Methode\n",
        "eine_kurze_liste = [0, 0, 7]\n",
        "eine_andere_liste = [2, 4, 1, 2]\n",
        "eine_andere_liste.extend(eine_kurze_liste) \n",
        "print(eine_andere_liste)"
      ],
      "execution_count": null,
      "outputs": [
        {
          "output_type": "stream",
          "text": [
            "[2, 4, 1, 2, 0, 0, 7]\n"
          ],
          "name": "stdout"
        }
      ]
    },
    {
      "cell_type": "code",
      "metadata": {
        "colab": {
          "base_uri": "https://localhost:8080/"
        },
        "id": "2HA6nwszhnqA",
        "outputId": "86182d1b-57b1-4ac6-fc87-952303997f31"
      },
      "source": [
        "# Listen sortieren mit der list.sort()-Methode\n",
        "eine_andere_liste.sort()\n",
        "print(eine_andere_liste)"
      ],
      "execution_count": null,
      "outputs": [
        {
          "output_type": "stream",
          "text": [
            "[0, 0, 1, 2, 2, 4, 7]\n"
          ],
          "name": "stdout"
        }
      ]
    },
    {
      "cell_type": "code",
      "metadata": {
        "colab": {
          "base_uri": "https://localhost:8080/"
        },
        "id": "iIt36kZ_htIA",
        "outputId": "6150dfcf-a435-4cdb-85f3-c48250094c19"
      },
      "source": [
        "# Listen umkehren mit der .reverse()-Methode\n",
        "eine_andere_liste.reverse()\n",
        "print(eine_andere_liste)"
      ],
      "execution_count": null,
      "outputs": [
        {
          "output_type": "stream",
          "text": [
            "[7, 4, 2, 2, 1, 0, 0]\n"
          ],
          "name": "stdout"
        }
      ]
    },
    {
      "cell_type": "markdown",
      "metadata": {
        "id": "KR7iVK1wZu0B"
      },
      "source": [
        "### Dictionaries"
      ]
    },
    {
      "cell_type": "markdown",
      "metadata": {
        "id": "DbRuBwf5nI2j"
      },
      "source": [
        "In Dictionaries werden Key-Value-Paare gespeichert.  \n",
        "Schreibe ein Dictionary reiseziele, in dem du folgende Städte als Key und ensprechende Sehenswürdigkeiten als Value einsetzt:   \n",
        "Stadt: Paris, Ziel: Eiffelturm  \n",
        "Stadt: Berlin, Ziel: Brandenburger Tor   \n",
        "Stadt: London, Ziel: Big Ben. "
      ]
    },
    {
      "cell_type": "code",
      "metadata": {
        "id": "8HKNpE1ZzsWS"
      },
      "source": [
        ""
      ],
      "execution_count": null,
      "outputs": []
    },
    {
      "cell_type": "markdown",
      "metadata": {
        "id": "UUPKojDcMZSH"
      },
      "source": [
        "Füg dem Dictionary eine neue Stadt \"Rom\" mit dem Reiseziel \"Kolosseum\" hinzu und gib das Dictionary aus. "
      ]
    },
    {
      "cell_type": "code",
      "metadata": {
        "id": "3Edkx5CBM8be"
      },
      "source": [
        ""
      ],
      "execution_count": null,
      "outputs": []
    },
    {
      "cell_type": "markdown",
      "metadata": {
        "id": "PNawLZ64NM1k"
      },
      "source": [
        "Wie war noch gleich das Reiseziel von Berlin? Gib dessen Sehenswürdigkeit aus, indem du über den entsprechenden Key des Dictionarys auf den Value zugreifst."
      ]
    },
    {
      "cell_type": "code",
      "metadata": {
        "id": "Yh5QRABDMXh2",
        "colab": {
          "base_uri": "https://localhost:8080/"
        },
        "outputId": "910fd2ed-ea15-4271-f656-767ca98fa056"
      },
      "source": [
        ""
      ],
      "execution_count": null,
      "outputs": [
        {
          "output_type": "stream",
          "text": [
            "Brandenburger Tor\n"
          ],
          "name": "stdout"
        }
      ]
    },
    {
      "cell_type": "markdown",
      "metadata": {
        "id": "mxhHnfFHcKPD"
      },
      "source": [
        "Ersetze die Sehenswürdigkeit von Berlin durch den \"Fernsehturm\".  \n",
        "Kontrolliere deine Einstellung, indem du einen folgenden Satz ausgibst:  \n",
        "\"In Berlin ist der *Fernsehturm*\". Das Wort \"Fernsehturm\" schreibst du nicht direkt, sondern lässt es dir durch Aufrufen des Dictionarys einsetzen. \n"
      ]
    },
    {
      "cell_type": "code",
      "metadata": {
        "colab": {
          "base_uri": "https://localhost:8080/"
        },
        "id": "KaMiU6qhcBBV",
        "outputId": "65deeb8a-3c2f-4a4a-b49c-8bc55bcae8ee"
      },
      "source": [
        ""
      ],
      "execution_count": null,
      "outputs": [
        {
          "output_type": "stream",
          "text": [
            "In Berlin ist der Fernsehturm\n"
          ],
          "name": "stdout"
        }
      ]
    },
    {
      "cell_type": "markdown",
      "metadata": {
        "id": "Vp7k3KIwj53F"
      },
      "source": [
        "Wie viele Orte wollen wir insgesamt besuchen? Gib den Wert über die Länge des Dictionaries aus.  "
      ]
    },
    {
      "cell_type": "code",
      "metadata": {
        "colab": {
          "base_uri": "https://localhost:8080/"
        },
        "id": "LLiSUCY6kA42",
        "outputId": "203b9176-08b4-4948-d523-8815bf0ed297"
      },
      "source": [
        ""
      ],
      "execution_count": null,
      "outputs": [
        {
          "output_type": "stream",
          "text": [
            "4\n"
          ],
          "name": "stdout"
        }
      ]
    },
    {
      "cell_type": "markdown",
      "metadata": {
        "id": "uyXy2pp2c7vv"
      },
      "source": [
        "Kleine Transferaufgabe:  \n",
        "Lass dir die die Sehenswürdigkeiten aller drei Städte ausgeben und speicher sie in einer Liste.  \n",
        "Tipp: Erstell zunächste eine leere Liste (die du z.B. ziele_liste nennst) und füg danach die einzelnen Sehenswürdigkeiten hinzu. (Hierfür hatten wir eine built-in-Funktion von Listen besprochen) \n",
        "Gib dir die Liste am Ende aus. "
      ]
    },
    {
      "cell_type": "code",
      "metadata": {
        "colab": {
          "base_uri": "https://localhost:8080/"
        },
        "id": "GfbniFW1dd9R",
        "outputId": "2da52def-5345-4dc8-ff65-c8fd727fac07"
      },
      "source": [
        ""
      ],
      "execution_count": null,
      "outputs": [
        {
          "output_type": "stream",
          "text": [
            "{'Paris': 'Eiffelturm', 'Berlin': 'Fernsehturm', 'London': 'Big Ben', 'Rom': 'Kolosseum'}\n"
          ],
          "name": "stdout"
        }
      ]
    },
    {
      "cell_type": "markdown",
      "metadata": {
        "id": "PqZyVuJnjHVG"
      },
      "source": [
        "### Tupel"
      ]
    },
    {
      "cell_type": "markdown",
      "metadata": {
        "id": "xYoE2-RqjK_b"
      },
      "source": [
        "Tupel eignen sich gut, um Informationen zusammenzufassen.  \n",
        "Daher fassen wir jetzt folgende Informationen in einem Tupel zusammen:  \n",
        "Stadt, Land, Aufenthalt in Tagen, Sehenswürdigkeiten.  \n",
        "\n",
        "Beispielsweise:\n",
        "\n",
        "\n",
        "```\n",
        "paris_information = (\"Paris\", \"Frankreich\", 3, \"Eiffelturm\", \"Versailles\")\n",
        "```\n",
        "Leg das Tupel paris_information an und noch zwei weitere Tupel mit folgendem Inhalt:   \n",
        "london_information: \"London\", \"England\", 5, \"Big Ben\", \"Buckingham Palace\", \"Hyde Park\"  \n",
        "berlin_information: \"Berlin\", \"Deutschland\", 4, \"Fernsehturm\"\n",
        "\n"
      ]
    },
    {
      "cell_type": "code",
      "metadata": {
        "id": "jhqnzmLejLfX"
      },
      "source": [
        ""
      ],
      "execution_count": null,
      "outputs": []
    },
    {
      "cell_type": "markdown",
      "metadata": {
        "id": "5cIo60dztyPK"
      },
      "source": [
        "Entpacke das Tupel paris_information, indem du die Werte den Variablen stadt, land, tage_aufenthalt, ziel1, ziel2 zuweist. Gibt die neuen Variablen aus. "
      ]
    },
    {
      "cell_type": "code",
      "metadata": {
        "id": "GMhnSSFEuGcs"
      },
      "source": [
        ""
      ],
      "execution_count": null,
      "outputs": []
    },
    {
      "cell_type": "markdown",
      "metadata": {
        "id": "GPIY-KdcsqG8"
      },
      "source": [
        "Tupel können eine unterschiedliche Länge haben. Wir können mit einem Index auf die Position des Tupels zugreifen.  \n",
        "Gib folgende Sätze aus:   \n",
        "Ich bin \\*3* Tage in \\*Paris* und besuche den \\*Eiffelturm* .  \n",
        "\\*London* befindet sich in \\*England\\*. Ich besuche den \\*Hyde Park\\*.   \n",
        "Während meines \\*4\\*-tägigen Aufenthalts in \\*Berlin* besuche ich den \\*Fernsehturm\\*.  \n",
        "Alle Wörter in Sternchen \\* gibst du über das Tupel und den entsprechenden Index an. Wenn du magst, kannst du die Sätze kopieren, anstatt sie zu tippen. "
      ]
    },
    {
      "cell_type": "code",
      "metadata": {
        "colab": {
          "base_uri": "https://localhost:8080/"
        },
        "id": "-VAFfXT2sZiC",
        "outputId": "5493a1cf-dd0b-4dca-aeb5-ea5a2e23eb9c"
      },
      "source": [
        ""
      ],
      "execution_count": null,
      "outputs": [
        {
          "output_type": "stream",
          "text": [
            "Ich bin 3 Tage in Paris und besuche den Eiffelturm\n"
          ],
          "name": "stdout"
        }
      ]
    },
    {
      "cell_type": "code",
      "metadata": {
        "colab": {
          "base_uri": "https://localhost:8080/"
        },
        "id": "IA7Se_9PvLM5",
        "outputId": "de3e9af2-9c0c-4eb6-c4e4-3f2b018a37c8"
      },
      "source": [
        ""
      ],
      "execution_count": null,
      "outputs": [
        {
          "output_type": "stream",
          "text": [
            "London befindet sich in England. Ich besuche den Hyde Park\n"
          ],
          "name": "stdout"
        }
      ]
    },
    {
      "cell_type": "code",
      "metadata": {
        "colab": {
          "base_uri": "https://localhost:8080/"
        },
        "id": "YZ8a_lXPv6l_",
        "outputId": "e2db0f1e-bc64-4cba-b193-c261e24b665a"
      },
      "source": [
        ""
      ],
      "execution_count": null,
      "outputs": [
        {
          "output_type": "stream",
          "text": [
            "Während meines 4-tägigen Aufenthalts in Berlin besuche ich den Fernsehturm.\n"
          ],
          "name": "stdout"
        }
      ]
    },
    {
      "cell_type": "markdown",
      "metadata": {
        "id": "d4W1ldHlxJHi"
      },
      "source": [
        "# Lösungen zu Kapitel 2"
      ]
    },
    {
      "cell_type": "markdown",
      "metadata": {
        "id": "3ZEI_NV_umal"
      },
      "source": [
        "## Tutorial 2a"
      ]
    },
    {
      "cell_type": "markdown",
      "metadata": {
        "id": "8sS4F1MhuleO"
      },
      "source": [
        "Gib in die folgende Zelle den Code\n",
        "```\n",
        "eine_variable = 42\n",
        "```\n",
        "ein. Führe die Zelle aus, indem du auf den Play-Button klickst oder indem du [Shift] und [Enter] drückst.  \n"
      ]
    },
    {
      "cell_type": "code",
      "metadata": {
        "id": "UBPYRg0OuleP"
      },
      "source": [
        "eine_variable = 42"
      ],
      "execution_count": null,
      "outputs": []
    },
    {
      "cell_type": "markdown",
      "metadata": {
        "id": "8OEtZnoYuleP"
      },
      "source": [
        "In der Variablen \"eine_variable\" ist jetzt der Wert 42 gespeichert.  \n",
        "Gib den Wert der Variablen aus, indem du in die nächste Zelle folgenden Code eingibst und die Zelle ausführst:  \n",
        "```\n",
        "print(eine_variable)\n",
        "```"
      ]
    },
    {
      "cell_type": "code",
      "metadata": {
        "colab": {
          "base_uri": "https://localhost:8080/"
        },
        "id": "Gy3M6RxouleQ",
        "outputId": "6269d27f-34c5-42c5-99cf-4b8ad9bad2c2"
      },
      "source": [
        "print(eine_variable)"
      ],
      "execution_count": null,
      "outputs": [
        {
          "output_type": "stream",
          "text": [
            "42\n"
          ],
          "name": "stdout"
        }
      ]
    },
    {
      "cell_type": "markdown",
      "metadata": {
        "id": "FCdMQj_IuleQ"
      },
      "source": [
        "Innerhalb der Klammern der print()-Anweisung können wir nicht nur Variablen, sondern jeden anderen beliebigen Text ausgeben. Ein Text muss in einfachen ' ' oder doppelten \" \" Anführungszeichen stehen.  \n",
        "Gib in die nächste Zelle folgenden Code ein:\n",
        "```\n",
        "print(\"Hallo Python-Workshop\")\n",
        "```\n"
      ]
    },
    {
      "cell_type": "code",
      "metadata": {
        "colab": {
          "base_uri": "https://localhost:8080/"
        },
        "id": "3GxqVS-XuleQ",
        "outputId": "fff7b03c-d462-4de2-c808-41c98e51c9b3"
      },
      "source": [
        "print(\"Hallo Python-Workshop\")"
      ],
      "execution_count": null,
      "outputs": [
        {
          "output_type": "stream",
          "text": [
            "Hallo Python-Workshop\n"
          ],
          "name": "stdout"
        }
      ]
    },
    {
      "cell_type": "markdown",
      "metadata": {
        "id": "_mMk4gUsuleR"
      },
      "source": [
        "Um Variablen und Text zusammen mit einer print()-Anweisung auszugeben, müssen wir die Variable in Text umwandeln. Dafür nutzen wir die str()-Funktion und \"bauen\" den Text zusammen.  \n",
        "Gib in die nächste den folgenden Code an: \n",
        "``` \n",
        "print(\"eine_variable hat den Wert: \" + str(eine_variable))\n",
        "```\n"
      ]
    },
    {
      "cell_type": "code",
      "metadata": {
        "colab": {
          "base_uri": "https://localhost:8080/"
        },
        "id": "7LAdHGUTuleR",
        "outputId": "13145e57-ef5a-4b13-b67f-d440932d897a"
      },
      "source": [
        "print(\"eine_variable hat den Wert: \" + str(eine_variable))"
      ],
      "execution_count": null,
      "outputs": [
        {
          "output_type": "stream",
          "text": [
            "eine_variable hat den Wert: 42\n"
          ],
          "name": "stdout"
        }
      ]
    },
    {
      "cell_type": "markdown",
      "metadata": {
        "id": "ntQK_sZUupW-"
      },
      "source": [
        "## Tutorial 2b"
      ]
    },
    {
      "cell_type": "markdown",
      "metadata": {
        "id": "uqOdz9eputkG"
      },
      "source": [
        "In einer Variable können verschiedene Inhalte gespeichert werden. Welche Inhalte zulässig sind, wird durch den Datentyp festgelegt.  \n",
        "Bei der Initialisierung einer Variablen (d.h. sobald ein Wert zugewiesen wird), wird der Datentyp von Python automatisch bestimmt. Wir können den Datentyp aber auch nacträglich ändern.  \n",
        "In diesem Workshop arbeiten wir mit den vier wichtigsten Datentypen: \n",
        "\n",
        "\n",
        "*   Strings und Chars \n",
        "*   Integers und Floats\n",
        "\n"
      ]
    },
    {
      "cell_type": "markdown",
      "metadata": {
        "id": "rTrmYqNlutkG"
      },
      "source": [
        "### Strings und Chars"
      ]
    },
    {
      "cell_type": "markdown",
      "metadata": {
        "id": "DIyKA_fyutkG"
      },
      "source": [
        "Chars sind einzelne Zeichen. Ein Text ist eine Kette aus Chars und wir bezeichnen sie in Python als \"String\". Strings und Chars befinden sich immer in einfachen oder doppelten Anführungszeichen.  Es gibt keine Regel, wann doppelte oder einfach Anführungszeichen verwendet werden. Das kann man sich also aussuchen. \n",
        "\n",
        "Ausnahme: Wenn innerhalb des Strings doppelte Anführungszeichen verwendet werden sollen, wird der String mit einfachen Anführungszeichen gestartet und beendet (und umgekehrt)  \n",
        "Beispiel (führe die nachfolgende Zelle aus):  \n"
      ]
    },
    {
      "cell_type": "code",
      "metadata": {
        "colab": {
          "base_uri": "https://localhost:8080/"
        },
        "id": "_iFlwq80utkG",
        "outputId": "a60e99f8-c42b-4b34-accb-4753d1d3cc70"
      },
      "source": [
        "print(\"Als der Bus um die Ecke bog, rief Kesey 'Obacht!'\")"
      ],
      "execution_count": null,
      "outputs": [
        {
          "output_type": "stream",
          "text": [
            "Als der Bus um die Ecke bog, rief Kesey 'Obacht!'\n"
          ],
          "name": "stdout"
        }
      ]
    },
    {
      "cell_type": "markdown",
      "metadata": {
        "id": "6bjz1sI_utkG"
      },
      "source": [
        "Wenn sich der string in der print()-Anweisung befindet, wird er nicht gespeichert. Um ihn zu speichern, müssen wir eine Variable zuweisen, so wie in der nachfolgenden Zelle.  \n",
        "Ergänz bitte die beiden Sätze und gib beide Sätze aus."
      ]
    },
    {
      "cell_type": "code",
      "metadata": {
        "id": "7UB5lf8_utkG"
      },
      "source": [
        "satzteil1 = \"Ich heiße ________\"\n",
        "satzteil2 = \"Ich studiere _________\""
      ],
      "execution_count": null,
      "outputs": []
    },
    {
      "cell_type": "code",
      "metadata": {
        "colab": {
          "base_uri": "https://localhost:8080/"
        },
        "id": "zcYSvKkXutkH",
        "outputId": "d1192821-7625-4a4f-9ecc-ecff7e4f5369"
      },
      "source": [
        "print(satzteil1)\n",
        "print(satzteil2)"
      ],
      "execution_count": null,
      "outputs": [
        {
          "output_type": "stream",
          "text": [
            "Ich heiße ________\n",
            "Ich studiere _________\n"
          ],
          "name": "stdout"
        }
      ]
    },
    {
      "cell_type": "markdown",
      "metadata": {
        "id": "QYLA8GnPutkI"
      },
      "source": [
        "Jetzt wollen wir beide Satzteile verbinden, ohne sie zu verändern. Das können wir mit dem + Symbol durchführen.  \n",
        "Verbinde beide Satzteile in einer neuen Variablen text und gib diese aus"
      ]
    },
    {
      "cell_type": "code",
      "metadata": {
        "colab": {
          "base_uri": "https://localhost:8080/"
        },
        "id": "M4cwRS0WutkI",
        "outputId": "cdefa8d9-2dcf-4182-8bb9-f435f62681bb"
      },
      "source": [
        "text = satzteil1 + satzteil2\n",
        "print(text)"
      ],
      "execution_count": null,
      "outputs": [
        {
          "output_type": "stream",
          "text": [
            "Ich heiße ________Ich studiere _________\n"
          ],
          "name": "stdout"
        }
      ]
    },
    {
      "cell_type": "markdown",
      "metadata": {
        "id": "aX4jDNEiutkI"
      },
      "source": [
        "Das sieht natürlich nicht gut aus. Wir wollen, dass beide Sätze durch einen Punkt und ein Leerzeichen verbunden werden.  \n",
        "Da es sich auch um einen String handelt, können wir das einfach durch + \". \" an der richtigen Stelle durchführen.  \n",
        "Speicher den Text so, dass er lautet: \n",
        "Ich heiße \\_\\_\\_\\_\\_\\_\\_\\_. Ich studiere \\_\\_\\_\\_\\_\\_\\_\\_\\_\\_\\_.  \n",
        "Gib die Variable text wieder aus. "
      ]
    },
    {
      "cell_type": "code",
      "metadata": {
        "colab": {
          "base_uri": "https://localhost:8080/"
        },
        "id": "unpnGletutkI",
        "outputId": "d2a80379-e449-4fa9-c767-2bf5ec7eac70"
      },
      "source": [
        "text = satzteil1 + \". \" + satzteil2 + \".\"\n",
        "print(text)"
      ],
      "execution_count": null,
      "outputs": [
        {
          "output_type": "stream",
          "text": [
            "Ich heiße ________. Ich studiere _________.\n"
          ],
          "name": "stdout"
        }
      ]
    },
    {
      "cell_type": "markdown",
      "metadata": {
        "id": "4yQZcgzDutkI"
      },
      "source": [
        "Über den Index können wir auf die einzelnen Positionen des Strings zugreifen.  \n",
        "Speicher das erste, das vorletzte Zeichen des Satzes jeweils in einer neuen Variablen und gib diese aus (Tipp: Man kann von beiden Seiten auf einen String zugreifen).\n"
      ]
    },
    {
      "cell_type": "code",
      "metadata": {
        "colab": {
          "base_uri": "https://localhost:8080/"
        },
        "id": "uKrU8gh1utkJ",
        "outputId": "2f2bc474-f7ba-4eaa-d3e2-261ef26586f6"
      },
      "source": [
        "mein_char1 = text[0] \n",
        "mein_char2 = text[-2]\n",
        "print(mein_char1)\n",
        "print(mein_char2)"
      ],
      "execution_count": null,
      "outputs": [
        {
          "output_type": "stream",
          "text": [
            "I\n",
            "_\n"
          ],
          "name": "stdout"
        }
      ]
    },
    {
      "cell_type": "markdown",
      "metadata": {
        "id": "GB6j8TnJutkJ"
      },
      "source": [
        "### Integers und Floats"
      ]
    },
    {
      "cell_type": "markdown",
      "metadata": {
        "id": "ZWwMUa3AutkJ"
      },
      "source": [
        "Zahlenwerte werden als ganze Zahl in() oder als Fließkommazahl float() abgespeichert. Diese Zuweisung erfolgt automatisch durch Python.  \n",
        "Erstelle drei Variablen:  \n",
        "```\n",
        "v1 = 1\n",
        "v2 = 2\n",
        "v3 = 3\n",
        "```"
      ]
    },
    {
      "cell_type": "code",
      "metadata": {
        "id": "zh00Ced4utkJ"
      },
      "source": [
        "v1 = 1\n",
        "v2 = 2\n",
        "v3 = 3"
      ],
      "execution_count": null,
      "outputs": []
    },
    {
      "cell_type": "markdown",
      "metadata": {
        "id": "p3ouIszdutkJ"
      },
      "source": [
        "Addiere v1 und v3 und speicher den Wert in der variablen v4.  \n",
        "Kontrolliere dein Ergebnis, indem du v4 ausgibst."
      ]
    },
    {
      "cell_type": "code",
      "metadata": {
        "colab": {
          "base_uri": "https://localhost:8080/"
        },
        "id": "PMMQL6wAutkJ",
        "outputId": "0c5cfe4d-dd19-4644-9764-96dd1d9cd818"
      },
      "source": [
        "v4 = v1 + v3\n",
        "print(v4)"
      ],
      "execution_count": null,
      "outputs": [
        {
          "output_type": "stream",
          "text": [
            "4\n"
          ],
          "name": "stdout"
        }
      ]
    },
    {
      "cell_type": "markdown",
      "metadata": {
        "id": "pzQRucYSutkJ"
      },
      "source": [
        "Mutlipliziere v2 und v4 und speicher das Ergebnis in der neuen Variablen v5. Gib v5 zur Kontrolle aus. "
      ]
    },
    {
      "cell_type": "code",
      "metadata": {
        "colab": {
          "base_uri": "https://localhost:8080/"
        },
        "id": "kaKjGcrwutkJ",
        "outputId": "b74abe45-e8ac-45ba-9e62-59a3f0def70f"
      },
      "source": [
        "v5 = v2 * v4\n",
        "print(v5)"
      ],
      "execution_count": null,
      "outputs": [
        {
          "output_type": "stream",
          "text": [
            "8\n"
          ],
          "name": "stdout"
        }
      ]
    },
    {
      "cell_type": "markdown",
      "metadata": {
        "id": "UJuuIh9nutkJ"
      },
      "source": [
        "Ziehe von der Variablen v5 den Wert 5 ab und speicher das Ergebnis in der Variablen v6. Gib v6 zur Kontrolle aus. "
      ]
    },
    {
      "cell_type": "code",
      "metadata": {
        "colab": {
          "base_uri": "https://localhost:8080/"
        },
        "id": "D2EXFsKFutkJ",
        "outputId": "c25b1165-b214-4d55-b830-0592aa6f8626"
      },
      "source": [
        "v6 = v5 - 5\n",
        "print(v6)"
      ],
      "execution_count": null,
      "outputs": [
        {
          "output_type": "stream",
          "text": [
            "3\n"
          ],
          "name": "stdout"
        }
      ]
    },
    {
      "cell_type": "markdown",
      "metadata": {
        "id": "XyyI47L3utkJ"
      },
      "source": [
        "Berechne v2 zum Quadrat und speicher das Ergebnis in der Variablen v7, die du zur Kontrolle ausgibst.  \n",
        "Verwende die korrekte Anweisung für Potenzen und nicht die Multiplikation v2 * v2."
      ]
    },
    {
      "cell_type": "code",
      "metadata": {
        "colab": {
          "base_uri": "https://localhost:8080/"
        },
        "id": "8YnQJnAlutkJ",
        "outputId": "f6fd5c55-9f4d-4f2d-a7d3-b59bcb0f4ca9"
      },
      "source": [
        "v7 = v2 ** 2\n",
        "print(v7)"
      ],
      "execution_count": null,
      "outputs": [
        {
          "output_type": "stream",
          "text": [
            "4\n"
          ],
          "name": "stdout"
        }
      ]
    },
    {
      "cell_type": "markdown",
      "metadata": {
        "id": "aGFBR-24utkL"
      },
      "source": [
        "Dividiere v7 durch v3 und speicher das Ergebnis in der Variable v8. Gib v8 zur Kontrolle aus. "
      ]
    },
    {
      "cell_type": "code",
      "metadata": {
        "colab": {
          "base_uri": "https://localhost:8080/"
        },
        "id": "Hw_xp8-vutkL",
        "outputId": "bfc75e16-9352-48dc-d7b4-7c3a46461590"
      },
      "source": [
        "v8 = v7 / v3\n",
        "print(v8)"
      ],
      "execution_count": null,
      "outputs": [
        {
          "output_type": "stream",
          "text": [
            "1.3333333333333333\n"
          ],
          "name": "stdout"
        }
      ]
    },
    {
      "cell_type": "markdown",
      "metadata": {
        "id": "0P8H8z1mutkL"
      },
      "source": [
        "Berechne v3 modulo v7 und speicher das Ergebnis in der Variable v9.Gib v9 zur Kontrolle aus. "
      ]
    },
    {
      "cell_type": "code",
      "metadata": {
        "colab": {
          "base_uri": "https://localhost:8080/"
        },
        "id": "E9aS-1hEutkL",
        "outputId": "8e09640d-f3d4-4475-8b42-488abd2839c5"
      },
      "source": [
        "v9 = v7 % v3\n",
        "print(v9)"
      ],
      "execution_count": null,
      "outputs": [
        {
          "output_type": "stream",
          "text": [
            "1\n"
          ],
          "name": "stdout"
        }
      ]
    },
    {
      "cell_type": "markdown",
      "metadata": {
        "id": "LDTBA6IkutkL"
      },
      "source": [
        "Die Variable v8 kann nun kein int mehr sein. Gibt dir mit der type()-Anweisung den Typ der Variablen v8 aus. "
      ]
    },
    {
      "cell_type": "code",
      "metadata": {
        "colab": {
          "base_uri": "https://localhost:8080/"
        },
        "id": "WyHjDflqutkL",
        "outputId": "bd8e966a-05d9-4fb6-bd98-a9b5dd089b4d"
      },
      "source": [
        "print(type(v8))"
      ],
      "execution_count": null,
      "outputs": [
        {
          "output_type": "stream",
          "text": [
            "<class 'float'>\n"
          ],
          "name": "stdout"
        }
      ]
    },
    {
      "cell_type": "markdown",
      "metadata": {
        "id": "A97zmxKTutkL"
      },
      "source": [
        "Wandel v8 wieder in einen int um und gib dir das Ergebnis aus. Die Umwandlung bezeichnet man auch als \"Casten\""
      ]
    },
    {
      "cell_type": "code",
      "metadata": {
        "colab": {
          "base_uri": "https://localhost:8080/"
        },
        "id": "WD1b5TzLutkL",
        "outputId": "73c9e37a-3cc8-4881-f891-28f4ef297fd9"
      },
      "source": [
        "print(int(v8))"
      ],
      "execution_count": null,
      "outputs": [
        {
          "output_type": "stream",
          "text": [
            "1\n"
          ],
          "name": "stdout"
        }
      ]
    },
    {
      "cell_type": "markdown",
      "metadata": {
        "id": "l4oHZ6YYutkL"
      },
      "source": [
        "Speicher den Wert 133.7 in der Variablen v10 ab und wandel diese in einen int um. Was ist das Ergebnis?"
      ]
    },
    {
      "cell_type": "code",
      "metadata": {
        "colab": {
          "base_uri": "https://localhost:8080/"
        },
        "id": "lr9aBOfuutkM",
        "outputId": "4c4dc20e-a7e4-43f0-91df-91a76dd21eb0"
      },
      "source": [
        "v10 = 133.7\n",
        "print(int(133.7))"
      ],
      "execution_count": null,
      "outputs": [
        {
          "output_type": "stream",
          "text": [
            "133\n"
          ],
          "name": "stdout"
        }
      ]
    },
    {
      "cell_type": "markdown",
      "metadata": {
        "id": "z3-Tx8eNutkM"
      },
      "source": [
        "Speicher den Wert 5 in der Variablen v11 ab und wandel diese in einen float um. Was ist das Ergebnis?"
      ]
    },
    {
      "cell_type": "code",
      "metadata": {
        "colab": {
          "base_uri": "https://localhost:8080/"
        },
        "id": "B9hjzXN1utkM",
        "outputId": "80c35fb5-05f5-4c0c-97ec-5267b2b60154"
      },
      "source": [
        "v11 = 5\n",
        "print(float(v11))"
      ],
      "execution_count": null,
      "outputs": [
        {
          "output_type": "stream",
          "text": [
            "5.0\n"
          ],
          "name": "stdout"
        }
      ]
    },
    {
      "cell_type": "markdown",
      "metadata": {
        "id": "xp5QrRMgutkM"
      },
      "source": [
        "Über Funktionen wie int(), float() und str() lassen sich die Datentypen ineinander umwandeln. Überlege, welche Datentypen problemlos in andere umzuwandeln sind und bei welchen Umwandlungen könnte es Probleme geben?"
      ]
    },
    {
      "cell_type": "markdown",
      "metadata": {
        "id": "uetTtX3XXZ6g"
      },
      "source": [
        "## Tutorial 2c"
      ]
    },
    {
      "cell_type": "markdown",
      "metadata": {
        "id": "5YEH187aZPF_"
      },
      "source": [
        "### Listen"
      ]
    },
    {
      "cell_type": "markdown",
      "metadata": {
        "id": "gDrtFNgKZKub"
      },
      "source": [
        "Zum Abspeichern mehrerer Werte nutzen wir Listen.  \n",
        "Eine Liste enthält mehrere Werte (oder auch manchmal einen Wert oder keinen Wert). Sie wird mit eckigen Klammern [ ] erstellt.  \n",
        "Erstelle die folgenden Listen:  \n",
        "Die erste Liste \"fibonacci\" enthält die Elemente: 0, 1, 1, 2, 3, 5, 8  \n",
        "Die zweite Liste \"stadte\" enthält die Elemente: Peking, New York, Dubai, Witten    \n",
        "Die dritte Liste \"zufall\" enthält die Elemente 42, ?, 420, !, :)"
      ]
    },
    {
      "cell_type": "code",
      "metadata": {
        "id": "OtuLz30vZKuc"
      },
      "source": [
        "fibonacci = [0, 1, 1, 2, 3, 5, 8]\n",
        "staedte = [\"Peking\", \"New York\", \"Dubai\", \"Witten\"]\n",
        "zufall = [42, \"?\", 420, \"!\", \":)\"]"
      ],
      "execution_count": null,
      "outputs": []
    },
    {
      "cell_type": "markdown",
      "metadata": {
        "id": "MkGAS8vwZKuc"
      },
      "source": [
        "Wichtig: Falls in den folgenden Aufgaben einige Elemente deiner Liste fehlen oder zu viele vorhanden sind, führ die obere Zelle mit dem Erstellen der Liste erneut aus und dann alle weiteren Zellen genau ein mal)  \n",
        "\n",
        "---\n",
        "Füge zu der Liste stadte die zwei Städte \"Paris\" und \"Warschau\" hinzu,  Füg diese Städte zu der Liste hinzu (ohne die Liste in der oberen Zelle zu verändern)."
      ]
    },
    {
      "cell_type": "code",
      "metadata": {
        "id": "4pjl5xCSZKuc"
      },
      "source": [
        "staedte.append(\"Paris\")\n",
        "staedte.append(\"Warschau\")"
      ],
      "execution_count": null,
      "outputs": []
    },
    {
      "cell_type": "markdown",
      "metadata": {
        "id": "8DdZnxJcZKuc"
      },
      "source": [
        "Gib zur Kontrolle das letzte Element der Liste, das vorletzte Element der Liste und die gesamte Liste aus."
      ]
    },
    {
      "cell_type": "code",
      "metadata": {
        "colab": {
          "base_uri": "https://localhost:8080/"
        },
        "id": "c-kbWvjTZKud",
        "outputId": "fd7ae628-9a17-44ea-d0a2-97743c4f16e6"
      },
      "source": [
        "print(staedte[-1])\n",
        "print(staedte[-2])\n",
        "print(staedte)"
      ],
      "execution_count": null,
      "outputs": [
        {
          "output_type": "stream",
          "text": [
            "Warschau\n",
            "Paris\n",
            "['Peking', 'New York', 'Dubai', 'Witten', 'Paris', 'Warschau']\n"
          ],
          "name": "stdout"
        }
      ]
    },
    {
      "cell_type": "markdown",
      "metadata": {
        "id": "AEyM89VzZKud"
      },
      "source": [
        "Die Stadt New York soll gegen Toronto ersetzt werden. Greif hierfür auf New York über den Index der Liste zu und schreibe Toronto an diese Stelle. Gib auch danach die Liste mit den Städten wieder aus. "
      ]
    },
    {
      "cell_type": "code",
      "metadata": {
        "colab": {
          "base_uri": "https://localhost:8080/"
        },
        "id": "HLUIY8PxZKue",
        "outputId": "155907a6-1898-420f-b7c3-1579ad2dad43"
      },
      "source": [
        "staedte[1] = \"Toronto\"\n",
        "print(staedte)"
      ],
      "execution_count": null,
      "outputs": [
        {
          "output_type": "stream",
          "text": [
            "['Peking', 'Toronto', 'Dubai', 'Witten', 'Paris', 'Warschau']\n"
          ],
          "name": "stdout"
        }
      ]
    },
    {
      "cell_type": "markdown",
      "metadata": {
        "id": "sAZmMOWVZKue"
      },
      "source": [
        "Spontan hast du dich doch gegen die Stadt Warschau entschieden. Entferne diese Stadt wieder aus der Liste. Gib die Liste und das Element aus. Was passiert wenn du die Zelle mehrmals ausführst?"
      ]
    },
    {
      "cell_type": "code",
      "metadata": {
        "colab": {
          "base_uri": "https://localhost:8080/"
        },
        "id": "R_mOpL5NZKue",
        "outputId": "162a4fa7-c754-4198-80ce-ce7b96ffb69a"
      },
      "source": [
        "entfernte_stadt = staedte.pop()\n",
        "print(staedte)\n",
        "print(entfernte_stadt)"
      ],
      "execution_count": null,
      "outputs": [
        {
          "output_type": "stream",
          "text": [
            "['Peking', 'Toronto', 'Dubai', 'Witten', 'Paris']\n",
            "Warschau\n"
          ],
          "name": "stdout"
        }
      ]
    },
    {
      "cell_type": "markdown",
      "metadata": {
        "id": "B4zfx4eiZKuf"
      },
      "source": [
        "Erstelle eine Liste \"zwei_staedte\", die nur die Städte der zweiten und dritten Position der Städteliste enthält. Gib diese neue Städteliste aus.  "
      ]
    },
    {
      "cell_type": "code",
      "metadata": {
        "colab": {
          "base_uri": "https://localhost:8080/"
        },
        "id": "s5iioje-ZKuf",
        "outputId": "d9c86380-be6b-4908-91a2-13beb6ae6a2d"
      },
      "source": [
        "zwei_staedte = staedte[1:3]\n",
        "print(zwei_staedte)"
      ],
      "execution_count": null,
      "outputs": [
        {
          "output_type": "stream",
          "text": [
            "['Toronto', 'Dubai']\n"
          ],
          "name": "stdout"
        }
      ]
    },
    {
      "cell_type": "markdown",
      "metadata": {
        "id": "_ElyHlv503Yj"
      },
      "source": [
        "### Dictionaries"
      ]
    },
    {
      "cell_type": "markdown",
      "metadata": {
        "id": "Mx8ydWBf03Yk"
      },
      "source": [
        "In Dictionaries werden Key-Value-Paare gespeichert.  \n",
        "Schreibe ein Dictionary reiseziele, in dem du folgende Städte als Key und ensprechende Sehenswürdigkeiten als Value einsetzt:   \n",
        "Stadt: Paris, Ziel: Eiffelturm  \n",
        "Stadt: Berlin, Ziel: Brandenburger Tor   \n",
        "Stadt: London, Ziel: Big Ben. "
      ]
    },
    {
      "cell_type": "code",
      "metadata": {
        "id": "BWN8-aR503Yk"
      },
      "source": [
        "reiseziele = {\"Paris\": \"Eiffelturm\", \"Berlin\": \"Brandenburger Tor\", \"London\": \"Big Ben\"}"
      ],
      "execution_count": null,
      "outputs": []
    },
    {
      "cell_type": "markdown",
      "metadata": {
        "id": "95baEu5S03Yk"
      },
      "source": [
        "Füg dem Dictionary eine neue Stadt \"Rom\" mit dem Reiseziel \"Kolosseum\" hinzu und gib das Dictionary aus. "
      ]
    },
    {
      "cell_type": "code",
      "metadata": {
        "colab": {
          "base_uri": "https://localhost:8080/"
        },
        "id": "xa-1AkOJ03Yl",
        "outputId": "29620242-06a0-44ee-e838-66661354ab60"
      },
      "source": [
        "reiseziele[\"Rom\"] = \"Kolosseum\" \n",
        "print(reiseziele)"
      ],
      "execution_count": null,
      "outputs": [
        {
          "output_type": "stream",
          "text": [
            "{'Paris': 'Eiffelturm', 'Berlin': 'Brandenburger Tor', 'London': 'Big Ben', 'Rom': 'Kolosseum'}\n"
          ],
          "name": "stdout"
        }
      ]
    },
    {
      "cell_type": "markdown",
      "metadata": {
        "id": "7dAPfG1G03Yl"
      },
      "source": [
        "Wie war noch gleich das Reiseziel von Berlin? Gib dessen Sehenswürdigkeit aus, indem du über den entsprechenden Key des Dictionarys auf den Value zugreifst."
      ]
    },
    {
      "cell_type": "code",
      "metadata": {
        "colab": {
          "base_uri": "https://localhost:8080/"
        },
        "id": "piRWT2P803Yl",
        "outputId": "64b80dde-ac73-4892-9dc9-652a1f176b9f"
      },
      "source": [
        "print(reiseziele[\"Berlin\"])"
      ],
      "execution_count": null,
      "outputs": [
        {
          "output_type": "stream",
          "text": [
            "Brandenburger Tor\n"
          ],
          "name": "stdout"
        }
      ]
    },
    {
      "cell_type": "markdown",
      "metadata": {
        "id": "UlWrMwlR03Yl"
      },
      "source": [
        "Ersetze die Sehenswürdigkeit von Berlin durch den \"Fernsehturm\".  \n",
        "Kontrolliere deine Einstellung, indem du einen folgenden Satz ausgibst:  \n",
        "\"In Berlin ist der *Fernsehturm*\". Das Wort \"Fernsehturm\" schreibst du nicht direkt, sondern lässt es dir durch Aufrufen des Dictionarys einsetzen. \n"
      ]
    },
    {
      "cell_type": "code",
      "metadata": {
        "colab": {
          "base_uri": "https://localhost:8080/"
        },
        "id": "Xi55gNhM03Yl",
        "outputId": "a0579dec-ce75-4391-ed4d-17dab5d3cf41"
      },
      "source": [
        "reiseziele[\"Berlin\"] = \"Fernsehturm\"\n",
        "print(\"In Berlin ist der \" + str(reiseziele[\"Berlin\"]))"
      ],
      "execution_count": null,
      "outputs": [
        {
          "output_type": "stream",
          "text": [
            "In Berlin ist der Fernsehturm\n"
          ],
          "name": "stdout"
        }
      ]
    },
    {
      "cell_type": "markdown",
      "metadata": {
        "id": "L2zQJdDO03Ym"
      },
      "source": [
        "Wie viele Orte wollen wir insgesamt besuchen? Gib den Wert über die Länge des Dictionaries aus.  "
      ]
    },
    {
      "cell_type": "code",
      "metadata": {
        "colab": {
          "base_uri": "https://localhost:8080/"
        },
        "id": "v_vliFnh03Ym",
        "outputId": "8a3d0e15-04ef-4969-9b21-ff70977c38e2"
      },
      "source": [
        "print(len(reiseziele))"
      ],
      "execution_count": null,
      "outputs": [
        {
          "output_type": "stream",
          "text": [
            "4\n"
          ],
          "name": "stdout"
        }
      ]
    },
    {
      "cell_type": "markdown",
      "metadata": {
        "id": "w6gSkMrj03Ym"
      },
      "source": [
        "Kleine Transferaufgabe:  \n",
        "Lass dir die die Sehenswürdigkeiten aller drei Städte ausgeben und speicher sie in einer Liste.  \n",
        "Tipp: Erstell zunächste eine leere Liste (die du z.B. ziele_liste nennst) und füg danach die einzelnen Sehenswürdigkeiten hinzu. (Hierfür hatten wir eine built-in-Funktion von Listen besprochen) \n",
        "Gib dir die Liste am Ende aus. "
      ]
    },
    {
      "cell_type": "code",
      "metadata": {
        "colab": {
          "base_uri": "https://localhost:8080/"
        },
        "id": "LKqMECWR03Yn",
        "outputId": "d50c75db-aa73-4bce-fc66-45026985b3d8"
      },
      "source": [
        "ziele_liste = []\n",
        "ziele_liste.append(reiseziele[\"Paris\"])\n",
        "ziele_liste.append(reiseziele[\"Berlin\"])\n",
        "ziele_liste.append(reiseziele[\"Rom\"])\n",
        "print(reiseziele)"
      ],
      "execution_count": null,
      "outputs": [
        {
          "output_type": "stream",
          "text": [
            "{'Paris': 'Eiffelturm', 'Berlin': 'Fernsehturm', 'London': 'Big Ben', 'Rom': 'Kolosseum'}\n"
          ],
          "name": "stdout"
        }
      ]
    },
    {
      "cell_type": "markdown",
      "metadata": {
        "id": "G2WQB4N4ulRb"
      },
      "source": [
        "### Tupel"
      ]
    },
    {
      "cell_type": "markdown",
      "metadata": {
        "id": "2uk7CnemulRc"
      },
      "source": [
        "Tupel eignen sich gut, um Informationen zusammenzufassen.  \n",
        "Daher fassen wir jetzt folgende Informationen in einem Tupel zusammen:  \n",
        "Stadt, Land, Aufenthalt in Tagen, Sehenswürdigkeiten.  \n",
        "\n",
        "Beispielsweise:\n",
        "\n",
        "\n",
        "```\n",
        "paris_information = (\"Paris\", \"Frankreich\", 3, \"Eiffelturm\", \"Versailles\")\n",
        "```\n",
        "Leg das Tupel paris_information an und noch zwei weitere Tupel mit folgendem Inhalt:   \n",
        "london_information: \"London\", \"England\", 5, \"Big Ben\", \"Buckingham Palace\", \"Hyde Park\"  \n",
        "berlin_information: \"Berlin\", \"Deutschland\", 4, \"Fernsehturm\"\n",
        "\n"
      ]
    },
    {
      "cell_type": "code",
      "metadata": {
        "id": "CZm1f4c6ulRc"
      },
      "source": [
        "paris_information = (\"Paris\", \"Frankreich\", 3, \"Eiffelturm\", \"Versailles\")\n",
        "london_information = (\"London\", \"England\", 5, \"Big Ben\", \"Buckingham Palace\", \"Hyde Park\") \n",
        "berlin_information = (\"Berlin\", \"Deutschland\", 4, \"Fernsehturm\")"
      ],
      "execution_count": null,
      "outputs": []
    },
    {
      "cell_type": "markdown",
      "metadata": {
        "id": "wTu5zMO0ulRc"
      },
      "source": [
        "Entpacke das Tupel paris_information, indem du die Werte den Variablen stadt, land, tage_aufenthalt, ziel1, ziel2 zuweist. Gibt die neuen Variablen aus. "
      ]
    },
    {
      "cell_type": "code",
      "metadata": {
        "colab": {
          "base_uri": "https://localhost:8080/"
        },
        "id": "OCQ4x7IHulRc",
        "outputId": "b7b60f33-1251-4044-d984-f25bd88f0380"
      },
      "source": [
        "stadt, land, tage_aufenthalt, ziel1, ziel2 = paris_information\n",
        "print(stadt)\n",
        "print(land)\n",
        "print(tage_aufenthalt)\n",
        "print(ziel1)\n",
        "print(ziel2)"
      ],
      "execution_count": null,
      "outputs": [
        {
          "output_type": "stream",
          "text": [
            "Paris\n",
            "Frankreich\n",
            "3\n",
            "Eiffelturm\n",
            "Versailles\n"
          ],
          "name": "stdout"
        }
      ]
    },
    {
      "cell_type": "markdown",
      "metadata": {
        "id": "uivWmlQVulRd"
      },
      "source": [
        "Tupel können eine unterschiedliche Länge haben. Wir können mit einem Index auf die Position des Tupels zugreifen.  \n",
        "Gib folgende Sätze aus:   \n",
        "Ich bin \\*3* Tage in \\*Paris* und besuche den \\*Eiffelturm* .  \n",
        "\\*London* befindet sich in \\*England\\*. Ich besuche den \\*Hyde Park\\*.   \n",
        "Während meines \\*4\\*-tägigen Aufenthalts in \\*Berlin* besuche ich den \\*Fernsehturm\\*.  \n",
        "Alle Wörter in Sternchen \\* gibst du über das Tupel und den entsprechenden Index an. Wenn du magst, kannst du die Sätze kopieren, anstatt sie zu tippen. "
      ]
    },
    {
      "cell_type": "code",
      "metadata": {
        "colab": {
          "base_uri": "https://localhost:8080/"
        },
        "id": "U4VheFXjulRd",
        "outputId": "5493a1cf-dd0b-4dca-aeb5-ea5a2e23eb9c"
      },
      "source": [
        "print(\"Ich bin \" + str(paris_information[2]) + \" Tage in \" + str(paris_information[0]) + \" und besuche den \" + str(paris_information[3]))"
      ],
      "execution_count": null,
      "outputs": [
        {
          "output_type": "stream",
          "text": [
            "Ich bin 3 Tage in Paris und besuche den Eiffelturm\n"
          ],
          "name": "stdout"
        }
      ]
    },
    {
      "cell_type": "code",
      "metadata": {
        "colab": {
          "base_uri": "https://localhost:8080/"
        },
        "id": "HWe3uYW0ulRd",
        "outputId": "de3e9af2-9c0c-4eb6-c4e4-3f2b018a37c8"
      },
      "source": [
        "print(str(london_information[0]) + \" befindet sich in \" + str(london_information[1]) +\". Ich besuche den \" + str(london_information[5]))"
      ],
      "execution_count": null,
      "outputs": [
        {
          "output_type": "stream",
          "text": [
            "London befindet sich in England. Ich besuche den Hyde Park\n"
          ],
          "name": "stdout"
        }
      ]
    },
    {
      "cell_type": "code",
      "metadata": {
        "colab": {
          "base_uri": "https://localhost:8080/"
        },
        "id": "sbfGiPfRulRd",
        "outputId": "e2db0f1e-bc64-4cba-b193-c261e24b665a"
      },
      "source": [
        "print(\"Während meines \" + str(berlin_information[2]) + \"-tägigen Aufenthalts in \" + str(berlin_information[0]) + \" besuche ich den \" + str(berlin_information[3] + \".\"))"
      ],
      "execution_count": null,
      "outputs": [
        {
          "output_type": "stream",
          "text": [
            "Während meines 4-tägigen Aufenthalts in Berlin besuche ich den Fernsehturm.\n"
          ],
          "name": "stdout"
        }
      ]
    }
  ]
}