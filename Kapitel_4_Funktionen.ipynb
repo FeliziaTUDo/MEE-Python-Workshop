{
  "nbformat": 4,
  "nbformat_minor": 0,
  "metadata": {
    "colab": {
      "name": "Kapitel 4: Funktionen",
      "provenance": [],
      "collapsed_sections": [
        "nKKMFhlqc45K",
        "y7cCwqrERd7j",
        "NCslwDpuZTxt",
        "h8HIyvfQjcYv",
        "onKD6xg9UxMo",
        "DNMibdTSU0lQ",
        "bFDmNfROjXXN",
        "IBNfKmhVzyfn"
      ]
    },
    "kernelspec": {
      "name": "python3",
      "display_name": "Python 3"
    },
    "language_info": {
      "name": "python"
    }
  },
  "cells": [
    {
      "cell_type": "markdown",
      "metadata": {
        "id": "nKKMFhlqc45K"
      },
      "source": [
        "# Kapitel 4: Funktionen "
      ]
    },
    {
      "cell_type": "markdown",
      "metadata": {
        "id": "y7cCwqrERd7j"
      },
      "source": [
        "## Tutorial 4a"
      ]
    },
    {
      "cell_type": "markdown",
      "metadata": {
        "id": "ROwoCEkgRmCq"
      },
      "source": [
        "Funktionen sind dafür da, um wichtige Code-Abschnitte wiederholen zu können. Dadurch wird der sequentielle Ablauf des Codes aufgelöst.  \n",
        "Unten siehst du die Funktion \"print_hallo_funktion\", die den Text \"Hallo!\" ausgibt. Führ die Zelle aus. Noch wird der Text nicht ausgegeben.  \n",
        "Dafür muss die Funktion zunächst durch ihren Namen aufgerufen werden. Schreibe den Funktionsaufruf an die markierte Stelle in der nächsten Zelle. "
      ]
    },
    {
      "cell_type": "code",
      "metadata": {
        "id": "7pb_w_7VcWqS",
        "colab": {
          "base_uri": "https://localhost:8080/"
        },
        "outputId": "e8dcf5cb-36c3-450d-ca47-71275575a282"
      },
      "source": [
        "# Definition der Funktion \n",
        "def print_hallo_funktion(): \n",
        "    print(\"Hallo!\")\n",
        "\n",
        "# Schreibe hier deinen Funktionsaufruf: \n"
      ],
      "execution_count": null,
      "outputs": [
        {
          "output_type": "stream",
          "text": [
            "Hallo!\n"
          ],
          "name": "stdout"
        }
      ]
    },
    {
      "cell_type": "markdown",
      "metadata": {
        "id": "tpKd2jN1S29o"
      },
      "source": [
        "Schreib als nächstes deine eigene Funktion, die den Namen \n",
        "```\n",
        "print_hallo_name\n",
        "```\n",
        "hat.  Diese Funktion soll folgenden Text mit deinem Namen ausgeben:  \n",
        "\"Hallo,  \\_\\_\\_\\_\\_\\_\\_\\_\\_\\_\\_\\_\"  \n",
        "(Anstelle der Unterstriche soll dein Name stehen)\n",
        "\n",
        "Ruf diese Funkion anschließend auf, um zu kontrollieren, ob du sie richtig definiert hast. "
      ]
    },
    {
      "cell_type": "code",
      "metadata": {
        "colab": {
          "base_uri": "https://localhost:8080/"
        },
        "id": "N-YsccQjSm7R",
        "outputId": "162b440e-6d4c-4c77-aff0-9062db187d27"
      },
      "source": [
        "# Definition der Funktion \n",
        "\n",
        "\n",
        "# Funktionsaufruf \n"
      ],
      "execution_count": null,
      "outputs": [
        {
          "output_type": "stream",
          "text": [
            "Hallo __________\n"
          ],
          "name": "stdout"
        }
      ]
    },
    {
      "cell_type": "markdown",
      "metadata": {
        "id": "Vo_zGhrpVfZE"
      },
      "source": [
        "Zusatzaufgabe (optional)  \n",
        "Rufe zehn Mal hintereinander die Funktion print_hallo_name() auf.  \n",
        "Gib bitte nicht 10 Mal den Funktionsaufruf ein. Überlege dir, mit welcher Kontrollstruktur du dieses Problem lösen kannst. \n"
      ]
    },
    {
      "cell_type": "code",
      "metadata": {
        "id": "L4xtBfyFTs9K"
      },
      "source": [
        ""
      ],
      "execution_count": null,
      "outputs": []
    },
    {
      "cell_type": "markdown",
      "metadata": {
        "id": "NCslwDpuZTxt"
      },
      "source": [
        "## Tutorial 4b"
      ]
    },
    {
      "cell_type": "markdown",
      "metadata": {
        "id": "BwvYf5j3gIaJ"
      },
      "source": [
        "Mit Übergabeparametern kann man Funktionen Werte übergeben, die sie anschließend weiter verwenden.  \n",
        "Erstelle nun eine Funktion mit dem Namen hallo_wochentag. Die Funktion hat einen Übergabeparameter: wochentag.  \n",
        "Sie soll den Text ausgeben: \"Heute ist \\<wochentag>.\" (Statt \\<wochentag> soll der Wert des Übergabeparameters ausgegeben werden.)  \n",
        "Teste zwei Mal den Funktionsaufruf mit unterschiedlichen Übergabeparametern (z.B. \"Donnerstag\" und \"Sonntag\")\n"
      ]
    },
    {
      "cell_type": "code",
      "metadata": {
        "colab": {
          "base_uri": "https://localhost:8080/"
        },
        "id": "kR698ovLgba8",
        "outputId": "45358628-3691-4fe3-90b5-f0543e532f9f"
      },
      "source": [
        "# Funktionsdefinition\n",
        "\n",
        "\n",
        "# Funktionsaufruf\n"
      ],
      "execution_count": null,
      "outputs": [
        {
          "output_type": "stream",
          "text": [
            "Heute ist Donnerstag\n",
            "Heute ist Sonntag\n"
          ],
          "name": "stdout"
        }
      ]
    },
    {
      "cell_type": "markdown",
      "metadata": {
        "id": "b1bIv-TUZYEM"
      },
      "source": [
        "Jetzt schreiben wir eine Funktion mit dem Namen hallo_name_wochentag, die eine Person begrüßt und den Wochentag angibt. Diese Funktion hat drei Übergabeparameter:  \n",
        "vorname, nachname, wochentag\n",
        "Die Ausgabe der Funktion soll sein:  \n",
        "Hallo \\<vorname> \\<nachname>! Heute ist \\<wochentag>.  \n",
        "Ruf diese Funktion mehrmals hintereinander mit unterschiedlichen Funktionsparametern auf. "
      ]
    },
    {
      "cell_type": "code",
      "metadata": {
        "colab": {
          "base_uri": "https://localhost:8080/"
        },
        "id": "rWNIt8FuhWkP",
        "outputId": "4612f015-e922-41a2-9ea0-88168657240e"
      },
      "source": [
        "# Funktionsdefinition\n",
        "\n",
        "\n",
        "# Funktionsaufruf\n"
      ],
      "execution_count": null,
      "outputs": [
        {
          "output_type": "stream",
          "text": [
            "Hallo Laura Müller. Heute ist Donnerstag.\n",
            "Hallo Marius Schmidt. Heute ist Sonntag.\n"
          ],
          "name": "stdout"
        }
      ]
    },
    {
      "cell_type": "markdown",
      "metadata": {
        "id": "tHBd4_lhh3Kq"
      },
      "source": [
        "Zusatzaufgabe (optional)\n",
        "Erstelle eine Funktion name_notendurchschnitt, die für einen Schüler den Durchschnitt aus zwei Noten berechnet.  \n",
        "Die Funktion hat drei Übergabeparameter:  \n",
        "name, note1, note2  \n",
        "Der Notendurchschnitt wird in der Funktion berechnet.  \n",
        "Die Ausgabe der Funktion soll sein:  \n",
        "\"Hallo \\<name>, dein Notendurchschnitt ist \\<notendurchschnitt>\"  \n",
        "\n",
        "Kontrolliere deine Funktion, indem du sie zwei Mal mit unterschiedlichen Parametern aufrufst.  "
      ]
    },
    {
      "cell_type": "code",
      "metadata": {
        "colab": {
          "base_uri": "https://localhost:8080/"
        },
        "id": "xZX_HjUzixqs",
        "outputId": "893a4446-ef82-48d7-e6be-8a90a2dbf475"
      },
      "source": [
        "# Funktionsdefinition\n",
        "\n",
        "\n",
        "# Funktionsaufruf\n"
      ],
      "execution_count": null,
      "outputs": [
        {
          "output_type": "stream",
          "text": [
            "Hallo Alex, dein Notendurchschnitt ist 2.15\n",
            "Hallo Vanessa, dein Notendurchschnitt ist 1.85\n"
          ],
          "name": "stdout"
        }
      ]
    },
    {
      "cell_type": "markdown",
      "metadata": {
        "id": "h8HIyvfQjcYv"
      },
      "source": [
        "## Tutorial 4c"
      ]
    },
    {
      "cell_type": "markdown",
      "metadata": {
        "id": "4XsOxQPAu1qR"
      },
      "source": [
        "Funktionen können Rückgabewerte haben. Diese Rückgabewerte können, wie auch die Übergabeparameter, beliebige Datentypen (d.h. Ints, Strings, Floats, Boolean, Chars) und Datenstrukturen (Listen, Dictionaries, Tupel) haben.  "
      ]
    },
    {
      "cell_type": "markdown",
      "metadata": {
        "id": "IJVsqNQGvM_y"
      },
      "source": [
        "Erstelle eine Funktion berechne_differenz. Diese Funktion erhält zwei Übergabeparameter:  \n",
        "wert1  \n",
        "wert2  \n",
        "Berechne innerhalb der Funktion die Variable differenz und gib den Wert zurück. \n",
        "Ruf die Funktion berechne_differenz auf (z.B. mit den Übergabeparametern 10 und 3), und speicher den zurückgegebenen Wert in der Variable meine_differenz. \n",
        "Gib die Variable meine_differenz aus. "
      ]
    },
    {
      "cell_type": "code",
      "metadata": {
        "colab": {
          "base_uri": "https://localhost:8080/"
        },
        "id": "Nz9it8VgvnIc",
        "outputId": "674a1580-8e93-4276-acb9-8aa4207279d1"
      },
      "source": [
        "# Funktionsdefinition\n",
        "\n",
        "\n",
        "# Funktionsaufruf\n",
        "meine_differenz = "
      ],
      "execution_count": null,
      "outputs": [
        {
          "output_type": "stream",
          "text": [
            "7\n"
          ],
          "name": "stdout"
        }
      ]
    },
    {
      "cell_type": "markdown",
      "metadata": {
        "id": "_YhEdfciv_Kl"
      },
      "source": [
        "Zusatz (optional):  \n",
        "Die oben stehende Funktion berechne_differenz soll erweitert werden, sodass immer der kleinere Wert vom größeren Wert abgezogen wird:  \n",
        "differenz = \\<großer_wert> - \\<kleiner_wert>  \n",
        "Dabei soll es egal sein, in welcher Reihenfolge die Übergabeparameter an die Funktion übergeben werden.  \n",
        "Das Ergebnis von berechne_differenz(10,3) soll das gleiche sein, wie das Ergebnis von berechne_differenz(3,10).   \n",
        "Erstelle diese Abfrage mithilfe einer Kontrollstruktur innerhalb der Funktion. Nenn deine neue Funktion berechne_positive_differenz.   \n",
        "Teste die neue Funktion, indem du die Übergabeparameter in unterschiedlichen Reihenfolgen übergibst. "
      ]
    },
    {
      "cell_type": "code",
      "metadata": {
        "colab": {
          "base_uri": "https://localhost:8080/"
        },
        "id": "pNzdyVLaxMDC",
        "outputId": "d7c9def4-6b4e-4ab3-f543-b95e9094ff4b"
      },
      "source": [
        "# Funktionsdefinition\n",
        "\n",
        "\n",
        "# Funktionsaufruf\n"
      ],
      "execution_count": null,
      "outputs": [
        {
          "output_type": "stream",
          "text": [
            "7\n",
            "7\n"
          ],
          "name": "stdout"
        }
      ]
    },
    {
      "cell_type": "markdown",
      "metadata": {
        "id": "xNfsxywVyC_1"
      },
      "source": [
        "Zusatz (optional & schwierig):  \n",
        "Erstelle eine Funktion werte_zu_liste, die zwei Übergabeparameter erhält:  \n",
        "startwert  \n",
        "endwert  \n",
        "Diese Funktion soll alle Werte von startwert bis endwert ausgeben (Überleg dir bitte, welche Kontrollstruktur dafür am besten geeignet ist).  \n",
        "Gleichzeitig soll jeder ausgegebene Wert zu einer Liste (nenn diese Liste liste_werte) angehängt werden.  Diese Liste wird am Ende der Funktion zurückgegeben.  \n",
        "Ruf die Funktion werte_zu_liste mit den Übergabeparametern (1, 6) auf. Die Funktion soll dabei folgenden Text ausgeben:  \n",
        "1  \n",
        "2  \n",
        "3   \n",
        "4  \n",
        "5  \n",
        "6  \n",
        "\n",
        "und sie soll die Liste liste_werte = \\[1, 2, 3, 4, 5, 6] zurückgeben.  \n",
        "Tipp: Erstell in der Funktion zunächst eine leere Liste und überleg dir, mit welcher Built-in-Funktion du Werte zu Listen hinzufügen konntest. "
      ]
    },
    {
      "cell_type": "code",
      "metadata": {
        "colab": {
          "base_uri": "https://localhost:8080/"
        },
        "id": "1updazudzJH6",
        "outputId": "1bb6fcde-9c46-47fe-a0c2-01aec4e32bdf"
      },
      "source": [
        "# Funktionsdefinition\n",
        "\n",
        "\n",
        "# Funktionsaufruf\n"
      ],
      "execution_count": null,
      "outputs": [
        {
          "output_type": "stream",
          "text": [
            "1\n",
            "2\n",
            "3\n",
            "4\n",
            "5\n",
            "6\n",
            "[1, 2, 3, 4, 5, 6]\n"
          ],
          "name": "stdout"
        }
      ]
    },
    {
      "cell_type": "markdown",
      "metadata": {
        "id": "onKD6xg9UxMo"
      },
      "source": [
        "# Lösungen "
      ]
    },
    {
      "cell_type": "markdown",
      "metadata": {
        "id": "DNMibdTSU0lQ"
      },
      "source": [
        "## Tutorial 4a"
      ]
    },
    {
      "cell_type": "markdown",
      "metadata": {
        "id": "cEwMSHNPU0lS"
      },
      "source": [
        "Funktionen sind dafür da, um wichtige Code-Abschnitte wiederholen zu können. Dadurch wird der sequentielle Ablauf des Codes aufgelöst.  \n",
        "Unten siehst du die Funktion \"print_hallo_funktion\", die den Text \"Hallo!\" ausgibt. Führ die Zelle aus. Noch wird der Text nicht ausgegeben.  \n",
        "Dafür muss die Funktion zunächst durch ihren Namen aufgerufen werden. Schreibe den Funktionsaufruf an die markierte Stelle in der nächsten Zelle. "
      ]
    },
    {
      "cell_type": "code",
      "metadata": {
        "colab": {
          "base_uri": "https://localhost:8080/"
        },
        "id": "UHz8Hf30U0lS",
        "outputId": "e8dcf5cb-36c3-450d-ca47-71275575a282"
      },
      "source": [
        "# Definition der Funktion \n",
        "def print_hallo_funktion(): \n",
        "    print(\"Hallo!\")\n",
        "\n",
        "# Schreibe hier deinen Funktionsaufruf: \n",
        "print_hallo_funktion()"
      ],
      "execution_count": null,
      "outputs": [
        {
          "output_type": "stream",
          "text": [
            "Hallo!\n"
          ],
          "name": "stdout"
        }
      ]
    },
    {
      "cell_type": "markdown",
      "metadata": {
        "id": "iqZIOxFeU0lT"
      },
      "source": [
        "Schreib als nächstes deine eigene Funktion, die den Namen \n",
        "```\n",
        "print_hallo_name\n",
        "```\n",
        "hat.  Diese Funktion soll folgenden Text mit deinem Namen ausgeben:  \n",
        "\"Hallo,  \\_\\_\\_\\_\\_\\_\\_\\_\\_\\_\\_\\_\"  \n",
        "(Anstelle der Unterstriche soll dein Name stehen)\n",
        "\n",
        "Ruf diese Funkion anschließend auf, um zu kontrollieren, ob du sie richtig definiert hast. "
      ]
    },
    {
      "cell_type": "code",
      "metadata": {
        "colab": {
          "base_uri": "https://localhost:8080/"
        },
        "id": "NaG1Yd_ZU0lU",
        "outputId": "162b440e-6d4c-4c77-aff0-9062db187d27"
      },
      "source": [
        "# Definition der Funktion \n",
        "def print_hallo_name(): \n",
        "    print(\"Hallo __________\")\n",
        "\n",
        "# Funktionsaufruf \n",
        "print_hallo_name()"
      ],
      "execution_count": null,
      "outputs": [
        {
          "output_type": "stream",
          "text": [
            "Hallo __________\n"
          ],
          "name": "stdout"
        }
      ]
    },
    {
      "cell_type": "markdown",
      "metadata": {
        "id": "5_F_RdXHWOpJ"
      },
      "source": [
        "Zusatzaufgabe (optional)  \n",
        "Rufe zehn Mal hintereinander die Funktion print_hallo_name() auf.  \n",
        "Gib bitte nicht 10 Mal den Funktionsaufruf ein. Überlege dir, mit welcher Kontrollstruktur du dieses Problem lösen kannst. \n"
      ]
    },
    {
      "cell_type": "code",
      "metadata": {
        "colab": {
          "base_uri": "https://localhost:8080/"
        },
        "id": "L4pOqzBOWOpJ",
        "outputId": "d5cb3f28-0eb2-4196-eedb-61060d33aa00"
      },
      "source": [
        "for i in range(0,10):\n",
        "    print_hallo_name()"
      ],
      "execution_count": null,
      "outputs": [
        {
          "output_type": "stream",
          "text": [
            "Hallo __________\n",
            "Hallo __________\n",
            "Hallo __________\n",
            "Hallo __________\n",
            "Hallo __________\n",
            "Hallo __________\n",
            "Hallo __________\n",
            "Hallo __________\n",
            "Hallo __________\n",
            "Hallo __________\n"
          ],
          "name": "stdout"
        }
      ]
    },
    {
      "cell_type": "markdown",
      "metadata": {
        "id": "bFDmNfROjXXN"
      },
      "source": [
        "## Tutorial 4b"
      ]
    },
    {
      "cell_type": "markdown",
      "metadata": {
        "id": "TjO_m3fNjXXO"
      },
      "source": [
        "Mit Übergabeparametern kann man Funktionen Werte übergeben, die sie anschließend weiter verwenden.  \n",
        "Erstelle nun eine Funktion mit dem Namen hallo_wochentag. Die Funktion hat einen Übergabeparameter: wochentag.  \n",
        "Sie soll den Text ausgeben: \"Heute ist \\<wochentag>.\" (Statt \\<wochentag> soll der Wert des Übergabeparameters ausgegeben werden.)  \n",
        "Teste zwei Mal den Funktionsaufruf mit unterschiedlichen Übergabeparametern (z.B. \"Donnerstag\" und \"Sonntag\")\n"
      ]
    },
    {
      "cell_type": "code",
      "metadata": {
        "colab": {
          "base_uri": "https://localhost:8080/"
        },
        "id": "fLq0yc7HjXXO",
        "outputId": "45358628-3691-4fe3-90b5-f0543e532f9f"
      },
      "source": [
        "# Funktionsdefinition\n",
        "def hallo_wochentag(wochentag):\n",
        "    print(\"Heute ist \" + wochentag)\n",
        "\n",
        "# Funktionsaufruf\n",
        "hallo_wochentag(\"Donnerstag\")\n",
        "hallo_wochentag(\"Sonntag\")"
      ],
      "execution_count": null,
      "outputs": [
        {
          "output_type": "stream",
          "text": [
            "Heute ist Donnerstag\n",
            "Heute ist Sonntag\n"
          ],
          "name": "stdout"
        }
      ]
    },
    {
      "cell_type": "markdown",
      "metadata": {
        "id": "w0RxlzS8jXXQ"
      },
      "source": [
        "Jetzt schreiben wir eine Funktion mit dem Namen hallo_name_wochentag, die eine Person begrüßt und den Wochentag angibt. Diese Funktion hat drei Übergabeparameter:  \n",
        "vorname, nachname, wochentag\n",
        "Die Ausgabe der Funktion soll sein:  \n",
        "Hallo \\<vorname> \\<nachname>! Heute ist \\<wochentag>.  \n",
        "Ruf diese Funktion mehrmals hintereinander mit unterschiedlichen Funktionsparametern auf. "
      ]
    },
    {
      "cell_type": "code",
      "metadata": {
        "colab": {
          "base_uri": "https://localhost:8080/"
        },
        "id": "xkNq37JKjXXQ",
        "outputId": "4612f015-e922-41a2-9ea0-88168657240e"
      },
      "source": [
        "# Funktionsdefinition\n",
        "def hallo_name_wochentag(vorname, nachname, wochentag):\n",
        "    print(\"Hallo \" + vorname + \" \" + nachname + \". Heute ist \" + wochentag + \".\")\n",
        "\n",
        "# Funktionsaufruf\n",
        "hallo_name_wochentag(\"Laura\", \"Müller\", \"Donnerstag\")\n",
        "hallo_name_wochentag(\"Marius\", \"Schmidt\", \"Sonntag\")"
      ],
      "execution_count": null,
      "outputs": [
        {
          "output_type": "stream",
          "text": [
            "Hallo Laura Müller. Heute ist Donnerstag.\n",
            "Hallo Marius Schmidt. Heute ist Sonntag.\n"
          ],
          "name": "stdout"
        }
      ]
    },
    {
      "cell_type": "markdown",
      "metadata": {
        "id": "ddHuwUiKjXXR"
      },
      "source": [
        "Zusatzaufgabe (optional)\n",
        "Erstelle eine Funktion name_notendurchschnitt, die für einen Schüler den Durchschnitt aus zwei Noten berechnet.  \n",
        "Die Funktion hat drei Übergabeparameter:  \n",
        "name, note1, note2  \n",
        "Der Notendurchschnitt wird in der Funktion berechnet.  \n",
        "Die Ausgabe der Funktion soll sein:  \n",
        "\"Hallo \\<name>, dein Notendurchschnitt ist \\<notendurchschnitt>\"  \n",
        "\n",
        "Kontrolliere deine Funktion, indem du sie zwei Mal mit unterschiedlichen Parametern aufrufst.  "
      ]
    },
    {
      "cell_type": "code",
      "metadata": {
        "colab": {
          "base_uri": "https://localhost:8080/"
        },
        "id": "X_UpK6c8jXXS",
        "outputId": "e394df21-3279-46bd-997b-80da1d68b104"
      },
      "source": [
        "# Funktionsdefinition\n",
        "def name_notendurchschnitt(name, note1, note2):\n",
        "    notendurchschnitt = (note1 + note2)/ 2\n",
        "    print(\"Hallo \" + name + \", dein Notendurchschnitt ist \" + str(notendurchschnitt))\n",
        " \n",
        "# Funktionsaufruf\n",
        "name_notendurchschnitt(\"Alex\", 1.3, 3.0)\n",
        "name_notendurchschnitt(\"Vanessa\", 1.7, 2.0)"
      ],
      "execution_count": null,
      "outputs": [
        {
          "output_type": "stream",
          "text": [
            "Hallo Alex, dein Notendurchschnitt ist 2.15\n",
            "Hallo Vanessa, dein Notendurchschnitt ist 1.85\n"
          ],
          "name": "stdout"
        }
      ]
    },
    {
      "cell_type": "markdown",
      "metadata": {
        "id": "IBNfKmhVzyfn"
      },
      "source": [
        "## Tutorial 4c"
      ]
    },
    {
      "cell_type": "markdown",
      "metadata": {
        "id": "dTdiTNlxzyfo"
      },
      "source": [
        "Funktionen können Rückgabewerte haben. Diese Rückgabewerte können, wie auch die Übergabeparameter, beliebige Datentypen (d.h. Ints, Strings, Floats, Boolean, Chars) und Datenstrukturen (Listen, Dictionaries, Tupel) haben.  "
      ]
    },
    {
      "cell_type": "markdown",
      "metadata": {
        "id": "pYjf33qdzyfp"
      },
      "source": [
        "Erstelle eine Funktion berechne_differenz. Diese Funktion erhält zwei Übergabeparameter:  \n",
        "wert1  \n",
        "wert2  \n",
        "Berechne innerhalb der Funktion die Variable differenz und gib den Wert zurück. \n",
        "Ruf die Funktion berechne_differenz auf (z.B. mit den Übergabeparametern 10 und 3), und speicher den zurückgegebenen Wert in der Variable meine_differenz. \n",
        "Gib die Variable meine_differenz aus. "
      ]
    },
    {
      "cell_type": "code",
      "metadata": {
        "colab": {
          "base_uri": "https://localhost:8080/"
        },
        "id": "BmINiQt4zyfp",
        "outputId": "674a1580-8e93-4276-acb9-8aa4207279d1"
      },
      "source": [
        "# Funktionsdefinition\n",
        "def berechne_differenz(wert1, wert2):\n",
        "    differenz = wert1 - wert2\n",
        "    return differenz\n",
        "# Funktionsaufruf\n",
        "meine_differenz = berechne_differenz(10, 3)\n",
        "print(meine_differenz)"
      ],
      "execution_count": null,
      "outputs": [
        {
          "output_type": "stream",
          "text": [
            "7\n"
          ],
          "name": "stdout"
        }
      ]
    },
    {
      "cell_type": "markdown",
      "metadata": {
        "id": "BteBI3IOzyfq"
      },
      "source": [
        "Zusatz (optional):  \n",
        "Die oben stehende Funktion berechne_differenz soll erweitert werden, sodass immer der kleinere Wert vom größeren Wert abgezogen wird:  \n",
        "differenz = \\<großer_wert> - \\<kleiner_wert>  \n",
        "Dabei soll es egal sein, in welcher Reihenfolge die Übergabeparameter an die Funktion übergeben werden.  \n",
        "Das Ergebnis von berechne_differenz(10,3) soll das gleiche sein, wie das Ergebnis von berechne_differenz(3,10).   \n",
        "Erstelle diese Abfrage mithilfe einer Kontrollstruktur innerhalb der Funktion. Nenn deine neue Funktion berechne_positive_differenz.   \n",
        "Teste die neue Funktion, indem du die Übergabeparameter in unterschiedlichen Reihenfolgen übergibst. "
      ]
    },
    {
      "cell_type": "code",
      "metadata": {
        "colab": {
          "base_uri": "https://localhost:8080/"
        },
        "id": "pd6ktgcMzyfq",
        "outputId": "d7c9def4-6b4e-4ab3-f543-b95e9094ff4b"
      },
      "source": [
        "# Funktionsdefinition\n",
        "def berechne_positive_differenz(wert1, wert2):\n",
        "    if wert1 > wert2: \n",
        "        differenz = wert1 - wert2 \n",
        "    else:\n",
        "        differenz = wert2 - wert1\n",
        "    return differenz\n",
        "\n",
        "# Funktionsaufruf\n",
        "meine_differenz1 = berechne_positive_differenz(10,3)\n",
        "print(meine_differenz1)\n",
        "meine_differenz2 = berechne_positive_differenz(3,10)\n",
        "print(meine_differenz2)"
      ],
      "execution_count": null,
      "outputs": [
        {
          "output_type": "stream",
          "text": [
            "7\n",
            "7\n"
          ],
          "name": "stdout"
        }
      ]
    },
    {
      "cell_type": "markdown",
      "metadata": {
        "id": "GAkPPWfpzyfr"
      },
      "source": [
        "Zusatz (optional & schwierig):  \n",
        "Erstelle eine Funktion werte_zu_liste, die zwei Übergabeparameter erhält:  \n",
        "startwert  \n",
        "endwert  \n",
        "Diese Funktion soll alle Werte von startwert bis endwert ausgeben (Überleg dir bitte, welche Kontrollstruktur dafür am besten geeignet ist).  \n",
        "Gleichzeitig soll jeder ausgegebene Wert zu einer Liste (nenn diese Liste liste_werte) angehängt werden.  Diese Liste wird am Ende der Funktion zurückgegeben.  \n",
        "Ruf die Funktion werte_zu_liste mit den Übergabeparametern (1, 6) auf. Die Funktion soll dabei folgenden Text ausgeben:  \n",
        "1  \n",
        "2  \n",
        "3   \n",
        "4  \n",
        "5  \n",
        "6  \n",
        "\n",
        "und sie soll die Liste liste_werte = \\[1, 2, 3, 4, 5, 6] zurückgeben.  \n",
        "Tipp: Erstell in der Funktion zunächst eine leere Liste und überleg dir, mit welcher Built-in-Funktion du Werte zu Listen hinzufügen konntest. "
      ]
    },
    {
      "cell_type": "code",
      "metadata": {
        "colab": {
          "base_uri": "https://localhost:8080/"
        },
        "id": "Ve9yi3H8zyfr",
        "outputId": "1bb6fcde-9c46-47fe-a0c2-01aec4e32bdf"
      },
      "source": [
        "# Funktionsdefinition\n",
        "def werte_zu_liste(startwert, endwert):\n",
        "    liste_werte = []\n",
        "    for zahl in range (startwert, endwert + 1):\n",
        "        print(zahl)\n",
        "        liste_werte.append(zahl)\n",
        "    return liste_werte\n",
        "\n",
        "# Funktionsaufruf\n",
        "meine_liste = werte_zu_liste (1, 6)\n",
        "print(meine_liste)"
      ],
      "execution_count": null,
      "outputs": [
        {
          "output_type": "stream",
          "text": [
            "1\n",
            "2\n",
            "3\n",
            "4\n",
            "5\n",
            "6\n",
            "[1, 2, 3, 4, 5, 6]\n"
          ],
          "name": "stdout"
        }
      ]
    }
  ]
}